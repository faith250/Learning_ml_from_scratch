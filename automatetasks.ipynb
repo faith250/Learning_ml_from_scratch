{
 "cells": [
  {
   "cell_type": "code",
   "execution_count": 1,
   "id": "aeac39c9-2fa1-425c-8eda-c4321aeb82dc",
   "metadata": {},
   "outputs": [
    {
     "name": "stdout",
     "output_type": "stream",
     "text": [
      "Requirement already satisfied: openpyxl in c:\\users\\test\\anaconda3\\lib\\site-packages (3.1.2)Note: you may need to restart the kernel to use updated packages.\n",
      "\n",
      "Requirement already satisfied: et-xmlfile in c:\\users\\test\\anaconda3\\lib\\site-packages (from openpyxl) (1.1.0)\n"
     ]
    }
   ],
   "source": [
    "pip install openpyxl"
   ]
  },
  {
   "cell_type": "code",
   "execution_count": 3,
   "id": "84efc154-4693-47e2-83d4-8ddf148c5fc5",
   "metadata": {},
   "outputs": [],
   "source": [
    "import openpyxl as xl"
   ]
  },
  {
   "cell_type": "code",
   "execution_count": 7,
   "id": "995d5d9a-2194-401a-b08c-b28db40642ac",
   "metadata": {},
   "outputs": [],
   "source": [
    "wb=xl.load_workbook('transactions.xlsx')\n",
    "sheet=wb['Sheet1']"
   ]
  },
  {
   "cell_type": "code",
   "execution_count": 15,
   "id": "5ce48331-1684-4996-b729-523cee28987f",
   "metadata": {},
   "outputs": [
    {
     "name": "stdout",
     "output_type": "stream",
     "text": [
      "transaction_id\n"
     ]
    }
   ],
   "source": [
    "cell=sheet['a1']\n",
    "print(cell.value)"
   ]
  },
  {
   "cell_type": "code",
   "execution_count": 13,
   "id": "a4a762f7-b9b7-4b65-879d-36e1e5af0d45",
   "metadata": {},
   "outputs": [],
   "source": [
    "cell = sheet.cell(1,1)"
   ]
  },
  {
   "cell_type": "code",
   "execution_count": 17,
   "id": "2ff1cf95-c47d-4d86-8c3a-7c2f1754505e",
   "metadata": {},
   "outputs": [
    {
     "data": {
      "text/plain": [
       "'transaction_id'"
      ]
     },
     "execution_count": 17,
     "metadata": {},
     "output_type": "execute_result"
    }
   ],
   "source": [
    "cell.value"
   ]
  },
  {
   "cell_type": "code",
   "execution_count": 19,
   "id": "2353bce9-05cc-4866-8a86-3ed0746cf3a6",
   "metadata": {},
   "outputs": [
    {
     "name": "stdout",
     "output_type": "stream",
     "text": [
      "4\n"
     ]
    }
   ],
   "source": [
    "print(sheet.max_row)"
   ]
  },
  {
   "cell_type": "code",
   "execution_count": 21,
   "id": "18402448-392d-41c2-ab54-43b0452924e8",
   "metadata": {},
   "outputs": [
    {
     "name": "stdout",
     "output_type": "stream",
     "text": [
      "3\n"
     ]
    }
   ],
   "source": [
    "print(sheet.max_column)"
   ]
  },
  {
   "cell_type": "code",
   "execution_count": 31,
   "id": "9c51c03c-f974-4847-b1be-96fa2e7a8e5c",
   "metadata": {},
   "outputs": [],
   "source": [
    "for row in range(2,sheet.max_row+1):\n",
    "    cell=sheet.cell(row,3)\n",
    "    corrected_price=cell.value*0.9\n",
    "    corrected_price_cell=sheet.cell(row,4)\n",
    "    corrected_price_cell.value=corrected_price"
   ]
  },
  {
   "cell_type": "code",
   "execution_count": 33,
   "id": "a0c6cce7-9a0f-4c8a-9899-22322f0b7f3d",
   "metadata": {},
   "outputs": [],
   "source": [
    "wb.save('transactions2.xlsx')"
   ]
  },
  {
   "cell_type": "code",
   "execution_count": 35,
   "id": "6b9d483e-b98e-47b4-b2ba-d17f9b69abf8",
   "metadata": {},
   "outputs": [],
   "source": [
    "#adding charts\n",
    "from openpyxl.chart import BarChart,Reference\n"
   ]
  },
  {
   "cell_type": "code",
   "execution_count": 41,
   "id": "3f908a88-4332-4363-9980-af9e6b986316",
   "metadata": {},
   "outputs": [],
   "source": [
    "values=Reference(sheet,min_row=2,max_row=sheet.max_row,min_col=4,max_col=4)"
   ]
  },
  {
   "cell_type": "code",
   "execution_count": 43,
   "id": "41f5f62a-9f29-40b6-944c-8a1acedd8509",
   "metadata": {},
   "outputs": [],
   "source": [
    "chart =BarChart()\n",
    "chart.add_data(values)\n",
    "sheet.add_chart(chart,'e2')"
   ]
  },
  {
   "cell_type": "code",
   "execution_count": 47,
   "id": "42dcf528-efea-46d3-a0c7-c8364248b3ac",
   "metadata": {},
   "outputs": [],
   "source": [
    "wb.save('transactions2.xlsx')"
   ]
  },
  {
   "cell_type": "code",
   "execution_count": null,
   "id": "2392fb9b-ace8-42a9-a034-704d85c78958",
   "metadata": {},
   "outputs": [],
   "source": []
  }
 ],
 "metadata": {
  "kernelspec": {
   "display_name": "Python 3 (ipykernel)",
   "language": "python",
   "name": "python3"
  },
  "language_info": {
   "codemirror_mode": {
    "name": "ipython",
    "version": 3
   },
   "file_extension": ".py",
   "mimetype": "text/x-python",
   "name": "python",
   "nbconvert_exporter": "python",
   "pygments_lexer": "ipython3",
   "version": "3.12.4"
  }
 },
 "nbformat": 4,
 "nbformat_minor": 5
}
