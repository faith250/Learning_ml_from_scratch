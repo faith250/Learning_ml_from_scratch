{
 "cells": [
  {
   "cell_type": "markdown",
   "id": "13ab381a-3d84-4424-9108-8e3ca1377e50",
   "metadata": {},
   "source": [
    "Writing simple morse code "
   ]
  },
  {
   "cell_type": "code",
   "execution_count": 52,
   "id": "2f044977-b8ec-4a6c-9634-5b1160280a5e",
   "metadata": {},
   "outputs": [
    {
     "name": "stdin",
     "output_type": "stream",
     "text": [
      "enter your normal words aastha\n"
     ]
    },
    {
     "name": "stdout",
     "output_type": "stream",
     "text": [
      ".- .- ... - .... .- \n"
     ]
    }
   ],
   "source": [
    "morse_code={\n",
    "    \"A\": \".-\",\n",
    "    \"B\": \"-...\",\n",
    "    \"C\": \"-.-.\",\n",
    "    \"D\": \"-..\",\n",
    "    \"E\": \".\",\n",
    "    \"F\": \"..-.\",\n",
    "    \"G\": \"--.\",\n",
    "    \"H\": \"....\",\n",
    "    \"I\": \"..\",\n",
    "    \"J\": \".---\",\n",
    "    \"K\": \"-.-\",\n",
    "    \"L\": \".-..\",\n",
    "    \"M\": \"--\",\n",
    "    \"N\": \"-.\",\n",
    "    \"O\": \"---\",\n",
    "    \"P\": \".--.\",\n",
    "    \"Q\": \"--.-\",\n",
    "    \"R\": \".-.\",\n",
    "    \"S\": \"...\",\n",
    "    \"T\": \"-\",\n",
    "    \"U\": \"..-\",\n",
    "    \"V\": \"...-\",\n",
    "    \"W\": \".--\",\n",
    "    \"X\": \"-..-\",\n",
    "    \"Y\": \"-.--\",\n",
    "    \"Z\": \"--..\",\n",
    "    \"1\": \".----\",\n",
    "    \"2\": \"..---\",\n",
    "    \"3\": \"...--\",\n",
    "    \"4\": \"....-\",\n",
    "    \"5\": \".....\",\n",
    "    \"6\": \"-....\",\n",
    "    \"7\": \"--...\",\n",
    "    \"8\": \"---..\",\n",
    "    \"9\": \"----.\",\n",
    "    \"0\": \"-----\",\n",
    "    \" \": \"/\",\n",
    "    \".\": \".-.-.-\",\n",
    "    \",\": \"--..--\",\n",
    "    \"?\": \"..--..\",\n",
    "    \"'\": \".----.\",\n",
    "    \"!\": \"-.-.--\",\n",
    "    \"/\": \"-..-.\",\n",
    "    \"(\": \"-.--.\",\n",
    "    \")\": \"-.--.-\",\n",
    "    \"&\": \".-...\",\n",
    "    \":\": \"---...\",\n",
    "    \";\": \"-.-.-.\",\n",
    "    \"=\": \"-...-\",\n",
    "    \"+\": \".-.-.\",\n",
    "    \"-\": \"-....-\",\n",
    "    \"_\": \"..--.-\",\n",
    "    \"\\\"\": \".-..-.\",\n",
    "    \"$\": \"...-..-\",\n",
    "    \"@\": \".--.-.\"\n",
    "}\n",
    "message=input(\"enter your normal words\")\n",
    "message=message.upper()\n",
    "output=\"\"\n",
    "for letter in message:\n",
    "    output +=morse_code.get(letter,\"!\")+\" \"\n",
    "print(output)\n"
   ]
  },
  {
   "cell_type": "raw",
   "id": "57cedae5-0480-4ce8-9218-a58180632f03",
   "metadata": {},
   "source": [
    "Trying decoding \n",
    "enter morse code and get equivalent letters\n"
   ]
  },
  {
   "cell_type": "code",
   "execution_count": 34,
   "id": "614e83b1-cdea-4259-ac42-ff14d9be56fb",
   "metadata": {},
   "outputs": [
    {
     "name": "stdin",
     "output_type": "stream",
     "text": [
      "entermorse to decode  .- .- ... - .... .- / -.- .- - .- .-. .. .-\n"
     ]
    },
    {
     "name": "stdout",
     "output_type": "stream",
     "text": [
      "AASTHA KATARIA\n"
     ]
    }
   ],
   "source": [
    "#reversing hte key for the value and value for the key\n",
    "reverse_morse_code={value: key for key,value in morse_code.items()}\n",
    "morse_message=input(\"entermorse to decode \").split(\" \")\n",
    "decoded_message=\"\"\n",
    "\n",
    "for code in morse_message:\n",
    "    if code in reverse_morse_code:\n",
    "        decoded_message+= reverse_morse_code[code]\n",
    "    else:\n",
    "        decoded_message=\"?\"\n",
    "print(decoded_message)"
   ]
  },
  {
   "cell_type": "code",
   "execution_count": 54,
   "id": "29bc537d-1016-4702-a80d-d16b8512578a",
   "metadata": {},
   "outputs": [],
   "source": [
    "#playing with sounds\n",
    "import winsound\n",
    "import time\n",
    "\n",
    "def play_morse_code(output):\n",
    "    for letter in output:\n",
    "        if letter==\".\":\n",
    "            winsound.Beep(1300,300)\n",
    "        elif letter==\"-\":\n",
    "            winsound.Beep(2200,900)\n",
    "        elif letter==\" \":\n",
    "            time.sleep(0.2)\n",
    "        time.sleep(0.1)\n",
    "play_morse_code(output.strip())"
   ]
  },
  {
   "cell_type": "code",
   "execution_count": 60,
   "id": "5b5d4713-6998-4037-b288-f4ed70fe71a4",
   "metadata": {},
   "outputs": [
    {
     "name": "stderr",
     "output_type": "stream",
     "text": [
      "[INFO   ] [Logger      ] Record log in C:\\Users\\TEST\\.kivy\\logs\\kivy_24-10-20_0.txt\n",
      "[INFO   ] [deps        ] Successfully imported \"kivy_deps.angle\" 0.4.0\n",
      "[INFO   ] [deps        ] Successfully imported \"kivy_deps.glew\" 0.3.1\n",
      "[INFO   ] [deps        ] Successfully imported \"kivy_deps.sdl2\" 0.7.0\n",
      "[INFO   ] [Kivy        ] v2.3.0\n",
      "[INFO   ] [Kivy        ] Installed at \"C:\\Users\\TEST\\anaconda3\\Lib\\site-packages\\kivy\\__init__.py\"\n",
      "[INFO   ] [Python      ] v3.12.4 | packaged by Anaconda, Inc. | (main, Jun 18 2024, 15:03:56) [MSC v.1929 64 bit (AMD64)]\n",
      "[INFO   ] [Python      ] Interpreter at \"C:\\Users\\TEST\\anaconda3\\python.exe\"\n",
      "[INFO   ] [Logger      ] Purge log fired. Processing...\n",
      "[INFO   ] [Logger      ] Purge finished!\n",
      "[INFO   ] [Factory     ] 195 symbols loaded\n",
      "[INFO   ] [Image       ] Providers: img_tex, img_dds, img_sdl2, img_pil (img_ffpyplayer ignored)\n",
      "[INFO   ] [Text        ] Provider: sdl2\n",
      "[INFO   ] [Window      ] Provider: sdl2\n",
      "[INFO   ] [GL          ] Using the \"OpenGL\" graphics system\n",
      "[INFO   ] [GL          ] GLEW initialization succeeded\n",
      "[INFO   ] [GL          ] Backend used <glew>\n",
      "[INFO   ] [GL          ] OpenGL version <b'4.6.0 - Build 31.0.101.2127'>\n",
      "[INFO   ] [GL          ] OpenGL vendor <b'Intel'>\n",
      "[INFO   ] [GL          ] OpenGL renderer <b'Intel(R) UHD Graphics 630'>\n",
      "[INFO   ] [GL          ] OpenGL parsed version: 4, 6\n",
      "[INFO   ] [GL          ] Shading version <b'4.60 - Build 31.0.101.2127'>\n",
      "[INFO   ] [GL          ] Texture max size <16384>\n",
      "[INFO   ] [GL          ] Texture max units <32>\n",
      "[INFO   ] [Window      ] auto add sdl2 input provider\n",
      "[INFO   ] [Window      ] virtual keyboard not allowed, single mode, not docked\n"
     ]
    },
    {
     "ename": "OSError",
     "evalue": "source code not available",
     "output_type": "error",
     "traceback": [
      "\u001b[1;31m---------------------------------------------------------------------------\u001b[0m",
      "\u001b[1;31mOSError\u001b[0m                                   Traceback (most recent call last)",
      "Cell \u001b[1;32mIn[60], line 58\u001b[0m\n\u001b[0;32m     56\u001b[0m \u001b[38;5;66;03m# Run the app\u001b[39;00m\n\u001b[0;32m     57\u001b[0m \u001b[38;5;28;01mif\u001b[39;00m \u001b[38;5;18m__name__\u001b[39m \u001b[38;5;241m==\u001b[39m \u001b[38;5;124m'\u001b[39m\u001b[38;5;124m__main__\u001b[39m\u001b[38;5;124m'\u001b[39m:\n\u001b[1;32m---> 58\u001b[0m     MorseTranslatorApp()\u001b[38;5;241m.\u001b[39mrun()\n",
      "File \u001b[1;32m~\\anaconda3\\Lib\\site-packages\\kivy\\app.py:955\u001b[0m, in \u001b[0;36mApp.run\u001b[1;34m(self)\u001b[0m\n\u001b[0;32m    952\u001b[0m \u001b[38;5;28;01mdef\u001b[39;00m \u001b[38;5;21mrun\u001b[39m(\u001b[38;5;28mself\u001b[39m):\n\u001b[0;32m    953\u001b[0m \u001b[38;5;250m    \u001b[39m\u001b[38;5;124;03m'''Launches the app in standalone mode.\u001b[39;00m\n\u001b[0;32m    954\u001b[0m \u001b[38;5;124;03m    '''\u001b[39;00m\n\u001b[1;32m--> 955\u001b[0m     \u001b[38;5;28mself\u001b[39m\u001b[38;5;241m.\u001b[39m_run_prepare()\n\u001b[0;32m    956\u001b[0m     runTouchApp()\n\u001b[0;32m    957\u001b[0m     \u001b[38;5;28mself\u001b[39m\u001b[38;5;241m.\u001b[39m_stop()\n",
      "File \u001b[1;32m~\\anaconda3\\Lib\\site-packages\\kivy\\app.py:924\u001b[0m, in \u001b[0;36mApp._run_prepare\u001b[1;34m(self)\u001b[0m\n\u001b[0;32m    922\u001b[0m \u001b[38;5;28;01mif\u001b[39;00m \u001b[38;5;129;01mnot\u001b[39;00m \u001b[38;5;28mself\u001b[39m\u001b[38;5;241m.\u001b[39mbuilt:\n\u001b[0;32m    923\u001b[0m     \u001b[38;5;28mself\u001b[39m\u001b[38;5;241m.\u001b[39mload_config()\n\u001b[1;32m--> 924\u001b[0m     \u001b[38;5;28mself\u001b[39m\u001b[38;5;241m.\u001b[39mload_kv(filename\u001b[38;5;241m=\u001b[39m\u001b[38;5;28mself\u001b[39m\u001b[38;5;241m.\u001b[39mkv_file)\n\u001b[0;32m    925\u001b[0m     root \u001b[38;5;241m=\u001b[39m \u001b[38;5;28mself\u001b[39m\u001b[38;5;241m.\u001b[39mbuild()\n\u001b[0;32m    926\u001b[0m     \u001b[38;5;28;01mif\u001b[39;00m root:\n",
      "File \u001b[1;32m~\\anaconda3\\Lib\\site-packages\\kivy\\app.py:677\u001b[0m, in \u001b[0;36mApp.load_kv\u001b[1;34m(self, filename)\u001b[0m\n\u001b[0;32m    675\u001b[0m \u001b[38;5;28;01melse\u001b[39;00m:\n\u001b[0;32m    676\u001b[0m     \u001b[38;5;28;01mtry\u001b[39;00m:\n\u001b[1;32m--> 677\u001b[0m         default_kv_directory \u001b[38;5;241m=\u001b[39m dirname(getfile(\u001b[38;5;28mself\u001b[39m\u001b[38;5;241m.\u001b[39m\u001b[38;5;18m__class__\u001b[39m))\n\u001b[0;32m    678\u001b[0m         \u001b[38;5;28;01mif\u001b[39;00m default_kv_directory \u001b[38;5;241m==\u001b[39m \u001b[38;5;124m'\u001b[39m\u001b[38;5;124m'\u001b[39m:\n\u001b[0;32m    679\u001b[0m             default_kv_directory \u001b[38;5;241m=\u001b[39m \u001b[38;5;124m'\u001b[39m\u001b[38;5;124m.\u001b[39m\u001b[38;5;124m'\u001b[39m\n",
      "File \u001b[1;32m~\\anaconda3\\Lib\\inspect.py:917\u001b[0m, in \u001b[0;36mgetfile\u001b[1;34m(object)\u001b[0m\n\u001b[0;32m    915\u001b[0m             \u001b[38;5;28;01mreturn\u001b[39;00m module\u001b[38;5;241m.\u001b[39m\u001b[38;5;18m__file__\u001b[39m\n\u001b[0;32m    916\u001b[0m         \u001b[38;5;28;01mif\u001b[39;00m \u001b[38;5;28mobject\u001b[39m\u001b[38;5;241m.\u001b[39m\u001b[38;5;18m__module__\u001b[39m \u001b[38;5;241m==\u001b[39m \u001b[38;5;124m'\u001b[39m\u001b[38;5;124m__main__\u001b[39m\u001b[38;5;124m'\u001b[39m:\n\u001b[1;32m--> 917\u001b[0m             \u001b[38;5;28;01mraise\u001b[39;00m \u001b[38;5;167;01mOSError\u001b[39;00m(\u001b[38;5;124m'\u001b[39m\u001b[38;5;124msource code not available\u001b[39m\u001b[38;5;124m'\u001b[39m)\n\u001b[0;32m    918\u001b[0m     \u001b[38;5;28;01mraise\u001b[39;00m \u001b[38;5;167;01mTypeError\u001b[39;00m(\u001b[38;5;124m'\u001b[39m\u001b[38;5;132;01m{!r}\u001b[39;00m\u001b[38;5;124m is a built-in class\u001b[39m\u001b[38;5;124m'\u001b[39m\u001b[38;5;241m.\u001b[39mformat(\u001b[38;5;28mobject\u001b[39m))\n\u001b[0;32m    919\u001b[0m \u001b[38;5;28;01mif\u001b[39;00m ismethod(\u001b[38;5;28mobject\u001b[39m):\n",
      "\u001b[1;31mOSError\u001b[0m: source code not available"
     ]
    }
   ],
   "source": [
    "from kivy.app import App\n",
    "from kivy.uix.boxlayout import BoxLayout\n",
    "from kivy.uix.label import Label\n",
    "from kivy.uix.textinput import TextInput\n",
    "from kivy.uix.button import Button\n",
    "\n",
    "# Define Morse code dictionary\n",
    "morse_code = {\n",
    "    \"A\": \".-\", \"B\": \"-...\", \"C\": \"-.-.\", \"D\": \"-..\", \"E\": \".\",\n",
    "    \"F\": \"..-.\", \"G\": \"--.\", \"H\": \"....\", \"I\": \"..\", \"J\": \".---\",\n",
    "    \"K\": \"-.-\", \"L\": \".-..\", \"M\": \"--\", \"N\": \"-.\", \"O\": \"---\",\n",
    "    \"P\": \".--.\", \"Q\": \"--.-\", \"R\": \".-.\", \"S\": \"...\", \"T\": \"-\",\n",
    "    \"U\": \"..-\", \"V\": \"...-\", \"W\": \".--\", \"X\": \"-..-\", \"Y\": \"-.--\",\n",
    "    \"Z\": \"--..\", \"1\": \".----\", \"2\": \"..---\", \"3\": \"...--\", \"4\": \"....-\",\n",
    "    \"5\": \".....\", \"6\": \"-....\", \"7\": \"--...\", \"8\": \"---..\", \"9\": \"----.\",\n",
    "    \"0\": \"-----\", \" \": \"/\"\n",
    "}\n",
    "\n",
    "# Create the layout for the app\n",
    "class MorseTranslatorApp(App):\n",
    "    def build(self):\n",
    "        # Define the layout\n",
    "        layout = BoxLayout(orientation='vertical', padding=10, spacing=10)\n",
    "\n",
    "        # Label to display instructions\n",
    "        self.label = Label(text=\"Enter text to convert to Morse code:\")\n",
    "        layout.add_widget(self.label)\n",
    "\n",
    "        # Text input for the user to enter text\n",
    "        self.text_input = TextInput(hint_text=\"Enter your text here\", multiline=False)\n",
    "        layout.add_widget(self.text_input)\n",
    "\n",
    "        # Button to trigger the translation\n",
    "        translate_button = Button(text=\"Translate to Morse\")\n",
    "        translate_button.bind(on_press=self.translate_text)\n",
    "        layout.add_widget(translate_button)\n",
    "\n",
    "        # Label to show the Morse code result\n",
    "        self.result_label = Label(text=\"Morse code will appear here\")\n",
    "        layout.add_widget(self.result_label)\n",
    "\n",
    "        return layout\n",
    "\n",
    "    def translate_text(self, instance):\n",
    "        # Get the user's input and translate it to uppercase\n",
    "        user_input = self.text_input.text.upper()\n",
    "\n",
    "        # Translate to Morse code\n",
    "        morse_output = \"\"\n",
    "        for char in user_input:\n",
    "            morse_output += morse_code.get(char, \"!\") + \" \"\n",
    "\n",
    "        # Update the result label with the Morse code translation\n",
    "        self.result_label.text = f\"Translated: {morse_output.strip()}\"\n",
    "\n",
    "# Run the app\n",
    "if __name__ == '__main__':\n",
    "    MorseTranslatorApp().run()\n"
   ]
  },
  {
   "cell_type": "code",
   "execution_count": 58,
   "id": "45aa7cad-4e57-4d30-973b-746d6d9d10b5",
   "metadata": {},
   "outputs": [
    {
     "name": "stdout",
     "output_type": "stream",
     "text": [
      "Collecting kivy\n",
      "  Downloading Kivy-2.3.0-cp312-cp312-win_amd64.whl.metadata (16 kB)\n",
      "Collecting Kivy-Garden>=0.1.4 (from kivy)\n",
      "  Downloading Kivy_Garden-0.1.5-py3-none-any.whl.metadata (159 bytes)\n",
      "Requirement already satisfied: docutils in c:\\users\\test\\anaconda3\\lib\\site-packages (from kivy) (0.18.1)\n",
      "Requirement already satisfied: pygments in c:\\users\\test\\anaconda3\\lib\\site-packages (from kivy) (2.15.1)\n",
      "Collecting kivy-deps.angle~=0.4.0 (from kivy)\n",
      "  Downloading kivy_deps.angle-0.4.0-cp312-cp312-win_amd64.whl.metadata (206 bytes)\n",
      "Collecting kivy-deps.sdl2~=0.7.0 (from kivy)\n",
      "  Downloading kivy_deps.sdl2-0.7.0-cp312-cp312-win_amd64.whl.metadata (206 bytes)\n",
      "Collecting kivy-deps.glew~=0.3.1 (from kivy)\n",
      "  Downloading kivy_deps.glew-0.3.1-cp312-cp312-win_amd64.whl.metadata (205 bytes)\n",
      "Collecting pypiwin32 (from kivy)\n",
      "  Downloading pypiwin32-223-py3-none-any.whl.metadata (236 bytes)\n",
      "Requirement already satisfied: requests in c:\\users\\test\\anaconda3\\lib\\site-packages (from Kivy-Garden>=0.1.4->kivy) (2.32.2)\n",
      "Requirement already satisfied: pywin32>=223 in c:\\users\\test\\anaconda3\\lib\\site-packages (from pypiwin32->kivy) (305.1)\n",
      "Requirement already satisfied: charset-normalizer<4,>=2 in c:\\users\\test\\anaconda3\\lib\\site-packages (from requests->Kivy-Garden>=0.1.4->kivy) (2.0.4)\n",
      "Requirement already satisfied: idna<4,>=2.5 in c:\\users\\test\\anaconda3\\lib\\site-packages (from requests->Kivy-Garden>=0.1.4->kivy) (3.7)\n",
      "Requirement already satisfied: urllib3<3,>=1.21.1 in c:\\users\\test\\anaconda3\\lib\\site-packages (from requests->Kivy-Garden>=0.1.4->kivy) (2.2.2)\n",
      "Requirement already satisfied: certifi>=2017.4.17 in c:\\users\\test\\anaconda3\\lib\\site-packages (from requests->Kivy-Garden>=0.1.4->kivy) (2024.8.30)\n",
      "Downloading Kivy-2.3.0-cp312-cp312-win_amd64.whl (4.6 MB)\n",
      "   ---------------------------------------- 0.0/4.6 MB ? eta -:--:--\n",
      "   --------- ------------------------------ 1.0/4.6 MB 5.0 MB/s eta 0:00:01\n",
      "   ---------------- ----------------------- 1.8/4.6 MB 4.4 MB/s eta 0:00:01\n",
      "   ---------------------- ----------------- 2.6/4.6 MB 4.2 MB/s eta 0:00:01\n",
      "   -------------------------------- ------- 3.7/4.6 MB 4.0 MB/s eta 0:00:01\n",
      "   ---------------------------------------  4.5/4.6 MB 4.0 MB/s eta 0:00:01\n",
      "   ---------------------------------------- 4.6/4.6 MB 4.0 MB/s eta 0:00:00\n",
      "Downloading kivy_deps.angle-0.4.0-cp312-cp312-win_amd64.whl (5.1 MB)\n",
      "   ---------------------------------------- 0.0/5.1 MB ? eta -:--:--\n",
      "   ------ --------------------------------- 0.8/5.1 MB 4.2 MB/s eta 0:00:02\n",
      "   ------------ --------------------------- 1.6/5.1 MB 4.0 MB/s eta 0:00:01\n",
      "   ------------------ --------------------- 2.4/5.1 MB 3.9 MB/s eta 0:00:01\n",
      "   ------------------------ --------------- 3.1/5.1 MB 3.9 MB/s eta 0:00:01\n",
      "   -------------------------------- ------- 4.2/5.1 MB 3.9 MB/s eta 0:00:01\n",
      "   -------------------------------------- - 5.0/5.1 MB 3.9 MB/s eta 0:00:01\n",
      "   ---------------------------------------- 5.1/5.1 MB 3.8 MB/s eta 0:00:00\n",
      "Downloading kivy_deps.glew-0.3.1-cp312-cp312-win_amd64.whl (123 kB)\n",
      "Downloading kivy_deps.sdl2-0.7.0-cp312-cp312-win_amd64.whl (3.5 MB)\n",
      "   ---------------------------------------- 0.0/3.5 MB ? eta -:--:--\n",
      "   -------- ------------------------------- 0.8/3.5 MB 3.7 MB/s eta 0:00:01\n",
      "   ----------------- ---------------------- 1.6/3.5 MB 3.8 MB/s eta 0:00:01\n",
      "   -------------------------- ------------- 2.4/3.5 MB 3.8 MB/s eta 0:00:01\n",
      "   -------------------------------------- - 3.4/3.5 MB 3.9 MB/s eta 0:00:01\n",
      "   ---------------------------------------- 3.5/3.5 MB 3.8 MB/s eta 0:00:00\n",
      "Downloading Kivy_Garden-0.1.5-py3-none-any.whl (4.6 kB)\n",
      "Downloading pypiwin32-223-py3-none-any.whl (1.7 kB)\n",
      "Installing collected packages: kivy-deps.sdl2, kivy-deps.glew, kivy-deps.angle, pypiwin32, Kivy-Garden, kivy\n",
      "Successfully installed Kivy-Garden-0.1.5 kivy-2.3.0 kivy-deps.angle-0.4.0 kivy-deps.glew-0.3.1 kivy-deps.sdl2-0.7.0 pypiwin32-223\n",
      "Note: you may need to restart the kernel to use updated packages.\n"
     ]
    }
   ],
   "source": [
    "pip install kivy"
   ]
  },
  {
   "cell_type": "code",
   "execution_count": null,
   "id": "e8ed560e-010a-44fa-ae5f-f6ac5f9edf08",
   "metadata": {},
   "outputs": [],
   "source": []
  }
 ],
 "metadata": {
  "kernelspec": {
   "display_name": "Python 3 (ipykernel)",
   "language": "python",
   "name": "python3"
  },
  "language_info": {
   "codemirror_mode": {
    "name": "ipython",
    "version": 3
   },
   "file_extension": ".py",
   "mimetype": "text/x-python",
   "name": "python",
   "nbconvert_exporter": "python",
   "pygments_lexer": "ipython3",
   "version": "3.12.4"
  }
 },
 "nbformat": 4,
 "nbformat_minor": 5
}
