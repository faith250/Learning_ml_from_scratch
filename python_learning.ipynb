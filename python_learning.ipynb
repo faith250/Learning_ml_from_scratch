{
 "cells": [
  {
   "cell_type": "code",
   "execution_count": 3,
   "id": "310e5839-647c-45ba-bafb-c8e4be661fa5",
   "metadata": {},
   "outputs": [
    {
     "name": "stdout",
     "output_type": "stream",
     "text": [
      "hi ne samala\n",
      "hi ne samala\n",
      "hi ne samala\n",
      "hi ne samala\n",
      "hi ne samala\n",
      "hi ne samala\n",
      "hi ne samala\n",
      "hi ne samala\n",
      "hi ne samala\n",
      "hi ne samala\n",
      "\n"
     ]
    }
   ],
   "source": [
    "print(\"hi ne samala\\n\" *10)"
   ]
  },
  {
   "cell_type": "code",
   "execution_count": 5,
   "id": "7acd4cc5-7874-48e7-8bec-52eb17389b6b",
   "metadata": {},
   "outputs": [],
   "source": [
    "#variables"
   ]
  },
  {
   "cell_type": "code",
   "execution_count": 11,
   "id": "051bf510-7f6e-4dd3-9e5c-d1a77bb39f93",
   "metadata": {},
   "outputs": [
    {
     "name": "stdout",
     "output_type": "stream",
     "text": [
      "10\n"
     ]
    }
   ],
   "source": [
    "#price=identifire/name of the variable\n",
    "price=10\n",
    "print(price)"
   ]
  },
  {
   "cell_type": "code",
   "execution_count": 13,
   "id": "a4a19388-b071-4f5b-b107-9d1884eec70b",
   "metadata": {},
   "outputs": [],
   "source": [
    "#understanding th epython interpreter it executes code line by line "
   ]
  },
  {
   "cell_type": "code",
   "execution_count": 15,
   "id": "aeaa1dde-1c8d-466a-bb18-b176e1f83113",
   "metadata": {},
   "outputs": [],
   "source": [
    "#there fore if i set a new value of the identifire price it will take that new value and not the older one"
   ]
  },
  {
   "cell_type": "code",
   "execution_count": 19,
   "id": "e56eac89-3557-45d1-b22c-edd284766c65",
   "metadata": {},
   "outputs": [
    {
     "name": "stdout",
     "output_type": "stream",
     "text": [
      "20\n"
     ]
    }
   ],
   "source": [
    "price=10\n",
    "price=20\n",
    "print(price)"
   ]
  },
  {
   "cell_type": "code",
   "execution_count": 21,
   "id": "87eeaa40-e5dc-4f2b-af19-269fdf0907eb",
   "metadata": {},
   "outputs": [],
   "source": [
    "#datatypes not explicitely devined like other programming languages but are defined as the way we write"
   ]
  },
  {
   "cell_type": "code",
   "execution_count": 23,
   "id": "906f0670-635f-4418-b78f-9ad0288ee929",
   "metadata": {},
   "outputs": [],
   "source": [
    "#integer\n",
    "price=10\n",
    "#float\n",
    "rating=4.9\n",
    "#string\n",
    "name='Mosh'\n",
    "#boolean\n",
    "is_published =False"
   ]
  },
  {
   "cell_type": "code",
   "execution_count": 25,
   "id": "86f0f2a5-9957-4bac-b33f-7e7658f159ab",
   "metadata": {},
   "outputs": [],
   "source": [
    "#python is a case sensitive and space sensitive language as in the upper case and lower case play an important role n the execution\\"
   ]
  },
  {
   "cell_type": "code",
   "execution_count": 27,
   "id": "e9b855a7-c624-4677-82f6-f7fe6792ee3d",
   "metadata": {},
   "outputs": [
    {
     "name": "stdin",
     "output_type": "stream",
     "text": [
      "what is your name Aastha kataria\n"
     ]
    },
    {
     "name": "stdout",
     "output_type": "stream",
     "text": [
      "hiAastha kataria\n"
     ]
    }
   ],
   "source": [
    "#receiving an input from the user\n",
    "name= input('what is your name')\n",
    "print('hi'+name)"
   ]
  },
  {
   "cell_type": "code",
   "execution_count": 33,
   "id": "9deb429d-8ea5-420a-ba57-f22bbbf0fdb4",
   "metadata": {},
   "outputs": [
    {
     "name": "stdin",
     "output_type": "stream",
     "text": [
      "what is yuor favourait colour blue\n"
     ]
    },
    {
     "name": "stdout",
     "output_type": "stream",
     "text": [
      "Aastha kataria's favourait colour isblue\n"
     ]
    }
   ],
   "source": [
    "favouraite=input('what is yuor favourait colour')\n",
    "print(name+\"'s favourait colour is\"+favouraite)"
   ]
  },
  {
   "cell_type": "code",
   "execution_count": 39,
   "id": "01b51ab2-dd1b-4fe5-af5d-2ab4987da216",
   "metadata": {},
   "outputs": [
    {
     "name": "stdin",
     "output_type": "stream",
     "text": [
      "birth year: 2004\n"
     ]
    },
    {
     "name": "stdout",
     "output_type": "stream",
     "text": [
      "<class 'str'>\n",
      "<class 'int'>\n",
      "20\n"
     ]
    }
   ],
   "source": [
    "#converting the type of the variable\n",
    "birth_year =input('birth year:')\n",
    "#finding the type of the birth year entered\n",
    "print(type(birth_year))\n",
    "age=2024-int(birth_year)\n",
    "print(type(age))\n",
    "print(age)"
   ]
  },
  {
   "cell_type": "code",
   "execution_count": 43,
   "id": "3f836a2e-0374-4ac9-acf5-ebb357f870c2",
   "metadata": {},
   "outputs": [],
   "source": [
    "#python strings\n",
    "#the basic convention of writing a string is either using single quotes or double quotes\n",
    "#in caase of an appostrophy wecant use ' single quotes twice it will gove n error there for use double quotes\n",
    "course=\"aastha's life\"\n",
    "#for spanning strings across multiple lines use 3 appostrophie ''' ''' or \"\"\"  \"\"\"\n",
    "course=\"\"\" i like what i am doing and how i am doing it \n",
    "bla bal ba bla blab\"\"\""
   ]
  },
  {
   "cell_type": "code",
   "execution_count": 45,
   "id": "6b8a47d2-09d1-47e0-af51-75be3b4913d3",
   "metadata": {},
   "outputs": [
    {
     "name": "stdout",
     "output_type": "stream",
     "text": [
      "h\n"
     ]
    }
   ],
   "source": [
    "#gettigna character at a partivualr index\n",
    "course=\"hello my name is aastha\"\n",
    "print(course[0])"
   ]
  },
  {
   "cell_type": "code",
   "execution_count": 47,
   "id": "1462a8c2-8203-4319-b12c-fa76d8e2d82a",
   "metadata": {},
   "outputs": [
    {
     "name": "stdout",
     "output_type": "stream",
     "text": [
      "a\n"
     ]
    }
   ],
   "source": [
    "#can also use negitive characters to get the characters form the end\n",
    "print(course[-1])"
   ]
  },
  {
   "cell_type": "code",
   "execution_count": 51,
   "id": "effbb955-a636-471b-943d-d40c8c550af3",
   "metadata": {},
   "outputs": [
    {
     "name": "stdout",
     "output_type": "stream",
     "text": [
      "hel\n"
     ]
    }
   ],
   "source": [
    "#getting a sequence of characters\n",
    "print(course[0:3])\n",
    "#gives all the characters form the index 0 to last index-1 hel"
   ]
  },
  {
   "cell_type": "code",
   "execution_count": 55,
   "id": "26fe200f-7cb1-4d62-b3fc-abe466e77f88",
   "metadata": {},
   "outputs": [
    {
     "name": "stdout",
     "output_type": "stream",
     "text": [
      "hello my name is aastha\n"
     ]
    }
   ],
   "source": [
    "#if we only give the tarting index and not the ending indexthe python will print the complete string fro th e starting index\n",
    "print(course[0:])"
   ]
  },
  {
   "cell_type": "code",
   "execution_count": 57,
   "id": "942c3103-7ead-4405-a1d9-90040a8297d3",
   "metadata": {},
   "outputs": [
    {
     "name": "stdout",
     "output_type": "stream",
     "text": [
      "ello my name is aastha\n"
     ]
    }
   ],
   "source": [
    "print(course[1:])"
   ]
  },
  {
   "cell_type": "code",
   "execution_count": 61,
   "id": "3955d181-b0a1-498f-8c40-bef242b172fb",
   "metadata": {},
   "outputs": [
    {
     "name": "stdout",
     "output_type": "stream",
     "text": [
      "hello my name is aastha\n"
     ]
    }
   ],
   "source": [
    "#coping a string \n",
    "another=course[:]#copies the whole string\n",
    "print(another)"
   ]
  },
  {
   "cell_type": "code",
   "execution_count": 65,
   "id": "84723b20-7d95-4c1e-9ae1-a74bd8f4a35f",
   "metadata": {},
   "outputs": [
    {
     "name": "stdout",
     "output_type": "stream",
     "text": [
      "ENNIFE\n"
     ]
    }
   ],
   "source": [
    "#TEST\n",
    "NAME=\"JENNIFER\"\n",
    "print(NAME[1:-1])\n",
    "#output should ideally be ennife"
   ]
  },
  {
   "cell_type": "code",
   "execution_count": 67,
   "id": "3e18f8ab-5257-4b64-8b49-14fd970e9dfe",
   "metadata": {},
   "outputs": [
    {
     "name": "stdout",
     "output_type": "stream",
     "text": [
      "aastha[kataria] is a coder\n"
     ]
    }
   ],
   "source": [
    "first=\"aastha\"\n",
    "lname=\"kataria\"\n",
    "message=first+'['+lname+'] is a coder'\n",
    "print(message)"
   ]
  },
  {
   "cell_type": "code",
   "execution_count": 71,
   "id": "f4803127-2370-4b83-a116-ecdbab641c29",
   "metadata": {},
   "outputs": [
    {
     "name": "stdout",
     "output_type": "stream",
     "text": [
      "aastha [kataria] is a coder\n"
     ]
    }
   ],
   "source": [
    "#using a formatted string using a placeholder\n",
    "msg=f'{first} [{lname}] is a coder'\n",
    "print(msg)"
   ]
  },
  {
   "cell_type": "code",
   "execution_count": 73,
   "id": "2fea0581-9a0d-4e94-bfa0-f3eb193fb500",
   "metadata": {},
   "outputs": [
    {
     "name": "stdout",
     "output_type": "stream",
     "text": [
      "20\n"
     ]
    }
   ],
   "source": [
    "#string functions\n",
    "#printing a length\n",
    "course='aastha ketan kataria'\n",
    "print(len(course))\n"
   ]
  },
  {
   "cell_type": "code",
   "execution_count": 75,
   "id": "c8fa96c9-aa03-44fc-89da-ef0fcdb4ca0d",
   "metadata": {},
   "outputs": [
    {
     "data": {
      "text/plain": [
       "'AASTHA KETAN KATARIA'"
      ]
     },
     "execution_count": 75,
     "metadata": {},
     "output_type": "execute_result"
    }
   ],
   "source": [
    "#functions that are specific to a string\n",
    "#converts the string to uppercase\n",
    "#this is an inbuilt function but laer look at how to write the complete code form scratcha nd its approaches\n",
    "course.upper()\n",
    "#does not change the original string\n",
    "#the upper() funstion that we are using is specific to strings so it is known as method\n",
    "#but the function in general that applies to all is known as function??"
   ]
  },
  {
   "cell_type": "code",
   "execution_count": 77,
   "id": "49a5a8e4-c297-4c3e-88f4-ad3525802be5",
   "metadata": {},
   "outputs": [],
   "source": [
    "#how to manuplate the original string??\n"
   ]
  },
  {
   "cell_type": "code",
   "execution_count": 79,
   "id": "0f98f52e-4b6a-4166-84e2-c648aac19855",
   "metadata": {},
   "outputs": [
    {
     "data": {
      "text/plain": [
       "'aastha ketan kataria'"
      ]
     },
     "execution_count": 79,
     "metadata": {},
     "output_type": "execute_result"
    }
   ],
   "source": [
    "course.lower()"
   ]
  },
  {
   "cell_type": "code",
   "execution_count": 81,
   "id": "bb4cd5ee-3f64-4cd3-a3f5-6b67bd6fb5bd",
   "metadata": {},
   "outputs": [
    {
     "name": "stdout",
     "output_type": "stream",
     "text": [
      "0\n"
     ]
    }
   ],
   "source": [
    "#finding a particular character or a set of characters\n",
    "print(course.find('a'))\n",
    "#returns at the first index"
   ]
  },
  {
   "cell_type": "code",
   "execution_count": 83,
   "id": "52de8e2c-0e53-4356-87b1-cdbaf2d4f3f5",
   "metadata": {},
   "outputs": [],
   "source": [
    "#if i want to fin it at its second or third occurance or at last occurance"
   ]
  },
  {
   "cell_type": "code",
   "execution_count": 89,
   "id": "fe0c7629-094a-4299-ae96-65d01afd17bc",
   "metadata": {},
   "outputs": [
    {
     "data": {
      "text/plain": [
       "7"
      ]
     },
     "execution_count": 89,
     "metadata": {},
     "output_type": "execute_result"
    }
   ],
   "source": [
    "#sequence of characters\n",
    "course.find('ketan')\n",
    "#gives the starting index from where the characters start"
   ]
  },
  {
   "cell_type": "code",
   "execution_count": 91,
   "id": "83c368c5-75a7-4774-8f40-821166d8039f",
   "metadata": {},
   "outputs": [
    {
     "data": {
      "text/plain": [
       "'aastha ketan ishwarlal kataria'"
      ]
     },
     "execution_count": 91,
     "metadata": {},
     "output_type": "execute_result"
    }
   ],
   "source": [
    "#repalcing  characters\n",
    "course.replace('ketan','ketan ishwarlal')"
   ]
  },
  {
   "cell_type": "code",
   "execution_count": 93,
   "id": "0fae1953-de34-4343-8a37-1d0df039ea67",
   "metadata": {},
   "outputs": [
    {
     "data": {
      "text/plain": [
       "'kksthk ketkn kktkrik'"
      ]
     },
     "execution_count": 93,
     "metadata": {},
     "output_type": "execute_result"
    }
   ],
   "source": [
    "course.replace('a','k')"
   ]
  },
  {
   "cell_type": "code",
   "execution_count": 95,
   "id": "9728dbf8-269b-4d04-b7ce-d0f362f7f5b2",
   "metadata": {},
   "outputs": [
    {
     "name": "stdout",
     "output_type": "stream",
     "text": [
      "aastha ketan kataria\n"
     ]
    }
   ],
   "source": [
    "#coes not change the original string\n",
    "print(course)"
   ]
  },
  {
   "cell_type": "code",
   "execution_count": 97,
   "id": "9c871f6a-097e-41a6-a155-3afbbfcc4a26",
   "metadata": {},
   "outputs": [
    {
     "data": {
      "text/plain": [
       "True"
      ]
     },
     "execution_count": 97,
     "metadata": {},
     "output_type": "execute_result"
    }
   ],
   "source": [
    "#as we did in find where it was returning the index value of the  letter of the sequence if found\n",
    "#there is also a way to get a boolean value for it \n",
    "'aastha' in course"
   ]
  },
  {
   "cell_type": "code",
   "execution_count": 99,
   "id": "bdd65390-e312-4a00-91ce-ac385f88c538",
   "metadata": {},
   "outputs": [],
   "source": [
    "#if we want to ignore case??"
   ]
  },
  {
   "cell_type": "code",
   "execution_count": 101,
   "id": "a5d1e216-3618-4342-afd8-1881c61b3375",
   "metadata": {},
   "outputs": [],
   "source": [
    "#arithematic operations + -* / %\n"
   ]
  },
  {
   "cell_type": "code",
   "execution_count": 103,
   "id": "f0df0d2a-fee4-4bc4-b7fc-75332895610a",
   "metadata": {},
   "outputs": [
    {
     "name": "stdout",
     "output_type": "stream",
     "text": [
      "3.3333333333333335\n",
      "3\n"
     ]
    }
   ],
   "source": [
    "#2 types of divisions\n",
    "print(10/3)\n",
    "print(10//3)"
   ]
  },
  {
   "cell_type": "code",
   "execution_count": 109,
   "id": "a8596b61-cf03-4b9a-8b7a-8ad986a8d9ec",
   "metadata": {},
   "outputs": [
    {
     "name": "stdout",
     "output_type": "stream",
     "text": [
      "1\n"
     ]
    }
   ],
   "source": [
    "print(10%3)\n",
    "#modulo operator gives a remainder of the "
   ]
  },
  {
   "cell_type": "code",
   "execution_count": 115,
   "id": "49705180-4aac-4852-bb7a-40ffe01e5b61",
   "metadata": {},
   "outputs": [
    {
     "name": "stdout",
     "output_type": "stream",
     "text": [
      "1000\n"
     ]
    }
   ],
   "source": [
    "print(10**3) \n",
    "#gives power/exponents"
   ]
  },
  {
   "cell_type": "code",
   "execution_count": 119,
   "id": "d5742c85-d15e-4b39-a6d3-77d1eed60aa8",
   "metadata": {},
   "outputs": [
    {
     "name": "stdout",
     "output_type": "stream",
     "text": [
      "13\n",
      "13\n"
     ]
    }
   ],
   "source": [
    "#using augmented assignment operator \n",
    "#writing the same code in  a shorter form\n",
    "x=10\n",
    "x= x+3\n",
    "y=10\n",
    "y+=3\n",
    "print(x)\n",
    "print(y)"
   ]
  },
  {
   "cell_type": "code",
   "execution_count": 121,
   "id": "2dfed75e-ac92-4b84-8e96-9f4af75ac453",
   "metadata": {},
   "outputs": [],
   "source": [
    "#operator precidence\n",
    "#BODMAS\n",
    "#PRACKETS ALWAYS OVER RIDES THE ORDER WHY??"
   ]
  },
  {
   "cell_type": "code",
   "execution_count": 123,
   "id": "df0640ff-7e8e-4a16-8a74-3be32b19ee87",
   "metadata": {},
   "outputs": [],
   "source": [
    "#built in math functions\n",
    "x=2.9"
   ]
  },
  {
   "cell_type": "code",
   "execution_count": 125,
   "id": "1ab4f144-4e7f-4ba3-8ba4-8238e6e87a41",
   "metadata": {},
   "outputs": [
    {
     "name": "stdout",
     "output_type": "stream",
     "text": [
      "3\n"
     ]
    }
   ],
   "source": [
    "print(round(x))"
   ]
  },
  {
   "cell_type": "code",
   "execution_count": 127,
   "id": "cf0b1781-2837-4ddc-a06c-b7242b23b5c8",
   "metadata": {},
   "outputs": [
    {
     "name": "stdout",
     "output_type": "stream",
     "text": [
      "2\n"
     ]
    }
   ],
   "source": [
    "x=2.1\n",
    "print(round(x))"
   ]
  },
  {
   "cell_type": "code",
   "execution_count": 131,
   "id": "aea7b2bb-91dd-48aa-a5b4-53b1ccc592eb",
   "metadata": {},
   "outputs": [
    {
     "name": "stdout",
     "output_type": "stream",
     "text": [
      "2\n"
     ]
    }
   ],
   "source": [
    "x=2.4\n",
    "print(round(x))"
   ]
  },
  {
   "cell_type": "code",
   "execution_count": 139,
   "id": "19c5ccef-5447-4ee4-8b2d-26603f1605ee",
   "metadata": {},
   "outputs": [
    {
     "name": "stdout",
     "output_type": "stream",
     "text": [
      "2\n"
     ]
    }
   ],
   "source": [
    "x=2.5\n",
    "print(round(x))"
   ]
  },
  {
   "cell_type": "code",
   "execution_count": 143,
   "id": "10936ac6-a3be-49d7-96ef-c3e7700e22b9",
   "metadata": {},
   "outputs": [
    {
     "name": "stdout",
     "output_type": "stream",
     "text": [
      "3\n"
     ]
    }
   ],
   "source": [
    "x=2.6\n",
    "print(round(x))"
   ]
  },
  {
   "cell_type": "code",
   "execution_count": 145,
   "id": "4ee1984e-68de-4abd-a31e-05866fec32dc",
   "metadata": {},
   "outputs": [
    {
     "name": "stdout",
     "output_type": "stream",
     "text": [
      "2.9\n"
     ]
    }
   ],
   "source": [
    "#absolute function in maths any number given to it +ve ot -ve will always return a +ve value\n",
    "print(abs(-2.9))"
   ]
  },
  {
   "cell_type": "code",
   "execution_count": 147,
   "id": "64c312fb-04df-4ee1-a1a9-a53e44b2d96c",
   "metadata": {},
   "outputs": [],
   "source": [
    "#using the math library  "
   ]
  },
  {
   "cell_type": "code",
   "execution_count": 149,
   "id": "0e07c4e8-482f-4b1b-9fd4-d68dae47f525",
   "metadata": {},
   "outputs": [
    {
     "data": {
      "text/plain": [
       "3"
      ]
     },
     "execution_count": 149,
     "metadata": {},
     "output_type": "execute_result"
    }
   ],
   "source": [
    "import math \n",
    "math.ceil(2.9)"
   ]
  },
  {
   "cell_type": "code",
   "execution_count": 151,
   "id": "4c17d8d6-ca4b-4f29-849e-5e7274913429",
   "metadata": {},
   "outputs": [
    {
     "data": {
      "text/plain": [
       "2"
      ]
     },
     "execution_count": 151,
     "metadata": {},
     "output_type": "execute_result"
    }
   ],
   "source": [
    "math.floor(2.9)"
   ]
  },
  {
   "cell_type": "code",
   "execution_count": 153,
   "id": "33930132-d87c-47b3-bf54-7c9516d19e3f",
   "metadata": {},
   "outputs": [],
   "source": [
    "#readmore aboutthe functioning of floor and ceil"
   ]
  },
  {
   "cell_type": "code",
   "execution_count": 167,
   "id": "18cf61af-c1c9-40a7-92dd-3a042ff7d162",
   "metadata": {},
   "outputs": [
    {
     "name": "stdout",
     "output_type": "stream",
     "text": [
      "its a cold day \n",
      "wear warm clothes\n",
      "have a good day\n"
     ]
    }
   ],
   "source": [
    "#conditional statements \n",
    "#if statements\n",
    "is_hot=False\n",
    "is_cold=True\n",
    "if is_hot:\n",
    "    print(\"it's a hot day\")\n",
    "    print(\"drink lots of water\")\n",
    "elif is_cold:\n",
    "    print(\"its a cold day \")\n",
    "    print(\"wear warm clothes\")\n",
    "\n",
    "    \n",
    "print(\"have a good day\")"
   ]
  },
  {
   "cell_type": "code",
   "execution_count": 169,
   "id": "ad296993-0373-48fb-8596-83059b677c61",
   "metadata": {},
   "outputs": [
    {
     "name": "stdout",
     "output_type": "stream",
     "text": [
      "eligible for loan\n"
     ]
    }
   ],
   "source": [
    "#logical opertors \n",
    "has_high_income=True\n",
    "has_good_credit=True\n",
    "if has_high_income and has_good_credit:\n",
    "    print(\"eligible for loan\")\n",
    "    "
   ]
  },
  {
   "cell_type": "code",
   "execution_count": 171,
   "id": "8c04e7c7-1be9-495e-88c5-2c56e4af1ef1",
   "metadata": {},
   "outputs": [
    {
     "name": "stdout",
     "output_type": "stream",
     "text": [
      "eligible for loan\n"
     ]
    }
   ],
   "source": [
    "#or atleast one cndition is true\n",
    "#not\n",
    "has_criminal_record=False\n",
    "if has_good_credit and not has_criminal_record:\n",
    "    print(\"eligible for loan\")"
   ]
  },
  {
   "cell_type": "code",
   "execution_count": 175,
   "id": "1feac6ea-c3b9-4c3b-9a10-9a392ad05bb7",
   "metadata": {},
   "outputs": [
    {
     "name": "stdout",
     "output_type": "stream",
     "text": [
      "it is not a hot day\n"
     ]
    }
   ],
   "source": [
    "#comparison operators\n",
    "temperature=30\n",
    "if temperature>30:\n",
    "    print(\"it is a hot day\")\n",
    "else:\n",
    "    print(\"it is not a hot day\")"
   ]
  },
  {
   "cell_type": "code",
   "execution_count": 177,
   "id": "e8109832-54a3-4479-a590-89b98e5d0206",
   "metadata": {},
   "outputs": [
    {
     "name": "stdout",
     "output_type": "stream",
     "text": [
      "name looks good\n"
     ]
    }
   ],
   "source": [
    "name=\"aastha\"\n",
    "if len(name)<3:\n",
    "    print(\"name must be at least 3 characters\")\n",
    "elif len(name)>50:\n",
    "    print(\"max length of the name can be 50 characters\")\n",
    "else:\n",
    "    print(\"name looks good\")"
   ]
  },
  {
   "cell_type": "code",
   "execution_count": 1,
   "id": "1c768a91-d0e4-4ed7-93cb-04ee629d1dfd",
   "metadata": {},
   "outputs": [
    {
     "name": "stdout",
     "output_type": "stream",
     "text": [
      "*****\n",
      "****\n",
      "***\n",
      "**\n",
      "*\n",
      "done\n"
     ]
    }
   ],
   "source": [
    "#while loops\n",
    "#while condition:\n",
    "i=5\n",
    "while i>=1:\n",
    "    print(\"*\" *i)\n",
    "    i=i-1\n",
    "print(\"done\")"
   ]
  },
  {
   "cell_type": "code",
   "execution_count": null,
   "id": "b9f31677-01d2-4bf2-8fc5-0ba80f757ca9",
   "metadata": {},
   "outputs": [
    {
     "name": "stdin",
     "output_type": "stream",
     "text": [
      "Guess: 3\n"
     ]
    },
    {
     "name": "stdout",
     "output_type": "stream",
     "text": [
      "ni khe ye\n"
     ]
    },
    {
     "name": "stdin",
     "output_type": "stream",
     "text": [
      "Guess: 4\n"
     ]
    },
    {
     "name": "stdout",
     "output_type": "stream",
     "text": [
      "ni khe ye\n"
     ]
    },
    {
     "name": "stdin",
     "output_type": "stream",
     "text": [
      "Guess: 9\n"
     ]
    },
    {
     "name": "stdout",
     "output_type": "stream",
     "text": [
      "ni khe ye\n"
     ]
    },
    {
     "name": "stdin",
     "output_type": "stream",
     "text": [
      "Guess: 7\n"
     ]
    },
    {
     "name": "stdout",
     "output_type": "stream",
     "text": [
      "ni khe ye\n"
     ]
    },
    {
     "name": "stdin",
     "output_type": "stream",
     "text": [
      "Guess: 7\n"
     ]
    },
    {
     "name": "stdout",
     "output_type": "stream",
     "text": [
      "ni khe ye\n"
     ]
    }
   ],
   "source": [
    "t=3;\n",
    "while t<=3:\n",
    "    guess=input(\"Guess:\")\n",
    "    if guess==9:\n",
    "        print(\"you have passed\")\n",
    "    else:\n",
    "        print(\"ni khe ye\")\n",
    "    t -=1"
   ]
  },
  {
   "cell_type": "code",
   "execution_count": null,
   "id": "9aac7cb9-e4f7-4648-9191-4eddef7fb25f",
   "metadata": {},
   "outputs": [
    {
     "name": "stdin",
     "output_type": "stream",
     "text": [
      "Guess: 2\n"
     ]
    },
    {
     "name": "stdout",
     "output_type": "stream",
     "text": [
      "ni khe ye\n",
      "2\n"
     ]
    },
    {
     "name": "stdin",
     "output_type": "stream",
     "text": [
      "Guess: 3\n"
     ]
    },
    {
     "name": "stdout",
     "output_type": "stream",
     "text": [
      "ni khe ye\n",
      "1\n"
     ]
    },
    {
     "name": "stdin",
     "output_type": "stream",
     "text": [
      "Guess: 9\n"
     ]
    },
    {
     "name": "stdout",
     "output_type": "stream",
     "text": [
      "ni khe ye\n",
      "0\n"
     ]
    },
    {
     "name": "stdin",
     "output_type": "stream",
     "text": [
      "Guess: 1\n"
     ]
    },
    {
     "name": "stdout",
     "output_type": "stream",
     "text": [
      "ni khe ye\n",
      "-1\n"
     ]
    }
   ],
   "source": [
    "guess_count=0;\n",
    "guess_limit=3\n",
    "while guess_count<guess_limit:\n",
    "    guess=input(\"Guess:\")\n",
    "    \n",
    "    if guess==9:\n",
    "        print(\"you have passed\")\n",
    "    else:\n",
    "        print(\"ni khe ye\")\n",
    "    t -=1\n",
    "    print(t)"
   ]
  },
  {
   "cell_type": "code",
   "execution_count": 15,
   "id": "3eec127f-fcf7-407b-bd95-c62aa466cf43",
   "metadata": {},
   "outputs": [
    {
     "name": "stdin",
     "output_type": "stream",
     "text": [
      "Guess: 5\n"
     ]
    },
    {
     "name": "stdout",
     "output_type": "stream",
     "text": [
      "ni khe ye de\n"
     ]
    },
    {
     "name": "stdin",
     "output_type": "stream",
     "text": [
      "Guess: 6\n"
     ]
    },
    {
     "name": "stdout",
     "output_type": "stream",
     "text": [
      "ni khe ye de\n"
     ]
    },
    {
     "name": "stdin",
     "output_type": "stream",
     "text": [
      "Guess: 9\n"
     ]
    },
    {
     "name": "stdout",
     "output_type": "stream",
     "text": [
      "you have passed\n"
     ]
    }
   ],
   "source": [
    "guess_count=0\n",
    "guess_limit=3\n",
    "secno=9\n",
    "while guess_count<guess_limit:\n",
    "    guess=int(input(\"Guess:\"))\n",
    "    guess_count +=1\n",
    "    if guess==secno:\n",
    "        print(\"you have passed\")\n",
    "        break\n",
    "    else:\n",
    "        print(\"ni khe ye de\")\n",
    "        \n",
    "    "
   ]
  },
  {
   "cell_type": "markdown",
   "id": "2d0521a6-ba2a-4f6e-a7cb-81982417fc8b",
   "metadata": {},
   "source": [
    "#while statemrnts also have an else block\n"
   ]
  },
  {
   "cell_type": "code",
   "execution_count": 20,
   "id": "657635bb-3e31-476a-9235-e16bfd8f5aa7",
   "metadata": {},
   "outputs": [
    {
     "name": "stdin",
     "output_type": "stream",
     "text": [
      "Guess: 9\n"
     ]
    },
    {
     "name": "stdout",
     "output_type": "stream",
     "text": [
      "you have passed\n"
     ]
    }
   ],
   "source": [
    "guess_count=0\n",
    "guess_limit=3\n",
    "secno=9\n",
    "while guess_count<guess_limit:\n",
    "    guess=int(input(\"Guess:\"))\n",
    "    guess_count +=1\n",
    "    if guess==secno:\n",
    "        print(\"you have passed\")\n",
    "        break\n",
    "else:\n",
    "    print(\"the while else block\")\n",
    "        \n",
    "#the else will be executed if there is no immediet break "
   ]
  },
  {
   "cell_type": "code",
   "execution_count": 22,
   "id": "d9691df0-7048-49e5-a48b-526b9e03d557",
   "metadata": {},
   "outputs": [
    {
     "name": "stdout",
     "output_type": "stream",
     "text": [
      "p\n",
      "y\n",
      "t\n",
      "h\n",
      "o\n",
      "n\n"
     ]
    }
   ],
   "source": [
    "#for loops\n",
    "for item in 'python':\n",
    "    print(item)"
   ]
  },
  {
   "cell_type": "code",
   "execution_count": 32,
   "id": "071f661c-4460-4132-a261-3cde629200b0",
   "metadata": {},
   "outputs": [
    {
     "name": "stdout",
     "output_type": "stream",
     "text": [
      "aastha\n",
      "aayushi\n",
      "vihaan\n"
     ]
    }
   ],
   "source": [
    "for item in ['aastha','aayushi','vihaan']:\n",
    "    print(item)"
   ]
  },
  {
   "cell_type": "code",
   "execution_count": 36,
   "id": "48dc4470-3b88-4251-90a2-499c5616f702",
   "metadata": {},
   "outputs": [
    {
     "name": "stdout",
     "output_type": "stream",
     "text": [
      "0\n",
      "1\n",
      "2\n",
      "3\n",
      "4\n",
      "5\n",
      "6\n",
      "7\n",
      "8\n",
      "9\n"
     ]
    }
   ],
   "source": [
    "for item in range(10):\n",
    "    print(item)"
   ]
  },
  {
   "cell_type": "code",
   "execution_count": 38,
   "id": "81cc51a5-ffd6-4301-b50f-55c6e0e7ecf0",
   "metadata": {},
   "outputs": [
    {
     "name": "stdout",
     "output_type": "stream",
     "text": [
      "5\n",
      "6\n",
      "7\n",
      "8\n",
      "9\n"
     ]
    }
   ],
   "source": [
    "for item in range(5,10):\n",
    "    print(item)"
   ]
  },
  {
   "cell_type": "code",
   "execution_count": 42,
   "id": "f3c9fbe0-00b0-49f5-a6e7-e1ebb419d790",
   "metadata": {},
   "outputs": [
    {
     "name": "stdout",
     "output_type": "stream",
     "text": [
      "5\n",
      "7\n",
      "9\n"
     ]
    }
   ],
   "source": [
    "#prints item in the interval of 2\n",
    "for item in range(5,10,2):\n",
    "    print(item)"
   ]
  },
  {
   "cell_type": "code",
   "execution_count": 50,
   "id": "c18e16eb-bd8f-4f63-bfb8-c2feb6506180",
   "metadata": {},
   "outputs": [
    {
     "name": "stdout",
     "output_type": "stream",
     "text": [
      "the total price of your items is60\n"
     ]
    }
   ],
   "source": [
    "#print the sum of all the items in a shopping cart\n",
    "sum=0\n",
    "prices=[10,20,30]\n",
    "for item in prices:\n",
    "    sum=sum+item\n",
    "\n",
    "#using a formatted string\n",
    "print(f\"the total price of your items is{sum}\")"
   ]
  },
  {
   "cell_type": "code",
   "execution_count": 62,
   "id": "184d48c2-1915-4b26-9b28-8c5fc523e88a",
   "metadata": {},
   "outputs": [
    {
     "name": "stdout",
     "output_type": "stream",
     "text": [
      "(0,0)\n",
      "(0,1)\n",
      "(0,2)\n",
      "(0,3)\n",
      "(0,4)\n",
      "(1,0)\n",
      "(1,1)\n",
      "(1,2)\n",
      "(1,3)\n",
      "(1,4)\n",
      "(2,0)\n",
      "(2,1)\n",
      "(2,2)\n",
      "(2,3)\n",
      "(2,4)\n",
      "(3,0)\n",
      "(3,1)\n",
      "(3,2)\n",
      "(3,3)\n",
      "(3,4)\n"
     ]
    }
   ],
   "source": [
    "# nested loops\n",
    "#generating coordinates\n",
    "\n",
    "for x in range(4):\n",
    "    for y in range(5):\n",
    "        print(f\"({x},{y})\")\n"
   ]
  },
  {
   "cell_type": "code",
   "execution_count": 64,
   "id": "959531b3-7648-4df2-9f7c-3e1041f9024b",
   "metadata": {},
   "outputs": [
    {
     "data": {
      "text/plain": [
       "'\\nxxxxx\\nxx\\nxxxxx\\nxx\\nxx\\n'"
      ]
     },
     "execution_count": 64,
     "metadata": {},
     "output_type": "execute_result"
    }
   ],
   "source": [
    "#coding challange\n",
    "'''\n",
    "xxxxx\n",
    "xx\n",
    "xxxxx\n",
    "xx\n",
    "xx\n",
    "'''"
   ]
  },
  {
   "cell_type": "code",
   "execution_count": 74,
   "id": "4082eedc-eaec-415d-a4d6-b1d9c0566b4a",
   "metadata": {},
   "outputs": [
    {
     "name": "stdout",
     "output_type": "stream",
     "text": [
      "xxxxx\n",
      "xx\n",
      "xxxxx\n",
      "xx\n",
      "xx\n"
     ]
    }
   ],
   "source": [
    "for x in range(2):\n",
    "    print(\"xxxxx\")\n",
    "    for y in range(x+1):\n",
    "        print(\"xx\")"
   ]
  },
  {
   "cell_type": "code",
   "execution_count": 82,
   "id": "c6dd7b2f-316e-4669-bddc-ee4171c7d589",
   "metadata": {},
   "outputs": [
    {
     "name": "stdout",
     "output_type": "stream",
     "text": [
      "xxxxx\n",
      "xx\n",
      "xxxxx\n",
      "xx\n",
      "xx\n"
     ]
    }
   ],
   "source": [
    "#can also be done using list\n",
    "list=[5,2,5,2,2]\n",
    "for items in list:\n",
    "    print(\"x\"*items)"
   ]
  },
  {
   "cell_type": "code",
   "execution_count": 84,
   "id": "828abb7e-6164-43f1-9aef-945d73eda565",
   "metadata": {},
   "outputs": [
    {
     "name": "stdout",
     "output_type": "stream",
     "text": [
      "['aastha', 'aayushi', 'vihaan']\n"
     ]
    }
   ],
   "source": [
    "#lists\n",
    "names=['aastha','aayushi','vihaan']\n",
    "print(names)"
   ]
  },
  {
   "cell_type": "code",
   "execution_count": 88,
   "id": "21d4e311-d942-4a39-b8ae-66086adcaba0",
   "metadata": {},
   "outputs": [
    {
     "name": "stdout",
     "output_type": "stream",
     "text": [
      "aastha\n"
     ]
    }
   ],
   "source": [
    "#printing a particular index in the list \n",
    "print(names[0])"
   ]
  },
  {
   "cell_type": "code",
   "execution_count": 96,
   "id": "e2bf7a38-c6b6-4a4f-b4a9-27b64473a072",
   "metadata": {},
   "outputs": [
    {
     "name": "stdout",
     "output_type": "stream",
     "text": [
      "aastha\n",
      "aayushi\n",
      "vihaan\n"
     ]
    }
   ],
   "source": [
    "for items in (names):\n",
    "    print(items)"
   ]
  },
  {
   "cell_type": "code",
   "execution_count": 98,
   "id": "1d149d09-85bb-4368-8bf8-c50046ba866a",
   "metadata": {},
   "outputs": [
    {
     "name": "stdout",
     "output_type": "stream",
     "text": [
      "['vihaan']\n"
     ]
    }
   ],
   "source": [
    "print(names[2:])"
   ]
  },
  {
   "cell_type": "code",
   "execution_count": 102,
   "id": "fbb009c2-0fa7-4037-81aa-b1f0ce7d2a53",
   "metadata": {},
   "outputs": [
    {
     "name": "stdout",
     "output_type": "stream",
     "text": [
      "['aastha', 'aayushi']\n"
     ]
    }
   ],
   "source": [
    "print(names[0:2])"
   ]
  },
  {
   "cell_type": "code",
   "execution_count": 104,
   "id": "5c3d25d0-9005-4f22-8662-213b4aff6a3e",
   "metadata": {},
   "outputs": [
    {
     "name": "stdout",
     "output_type": "stream",
     "text": [
      "['Aastha', 'aayushi', 'vihaan']\n"
     ]
    }
   ],
   "source": [
    "names[0]='Aastha'\n",
    "print(names)"
   ]
  },
  {
   "cell_type": "code",
   "execution_count": 114,
   "id": "4619b70c-8fd7-4c30-87cd-f3e9b14bc72b",
   "metadata": {},
   "outputs": [
    {
     "name": "stdout",
     "output_type": "stream",
     "text": [
      "3\n"
     ]
    }
   ],
   "source": [
    "#program to fingd the largest number in a list\n",
    "num=[1,2,3]\n",
    "max=num[0]\n",
    "for count in num:\n",
    "    if count>max:\n",
    "        max=count\n",
    "print(max)\n",
    "    "
   ]
  },
  {
   "cell_type": "code",
   "execution_count": 122,
   "id": "05c4f46b-5ec8-4813-ad1d-0be76b08930f",
   "metadata": {},
   "outputs": [
    {
     "name": "stdout",
     "output_type": "stream",
     "text": [
      "['aastha', 'aayush', 'vihaan']\n"
     ]
    }
   ],
   "source": [
    "list1=['aastha','aayush','vihaan']\n",
    "print(list1)"
   ]
  },
  {
   "cell_type": "code",
   "execution_count": 124,
   "id": "82265eb4-38f2-46a6-bb79-b7eeb4382e86",
   "metadata": {},
   "outputs": [
    {
     "name": "stdout",
     "output_type": "stream",
     "text": [
      "aayush\n"
     ]
    }
   ],
   "source": [
    "print(list1[1])"
   ]
  },
  {
   "cell_type": "code",
   "execution_count": 136,
   "id": "a4e90523-7790-4ff4-954c-0a6f4d981f8f",
   "metadata": {},
   "outputs": [
    {
     "name": "stdout",
     "output_type": "stream",
     "text": [
      "['aastha', 'aayush', 'vihaan']\n",
      "['aastha', 'aayush', 'vihaan']\n",
      "['aastha', 'aayush', 'vihaan']\n"
     ]
    }
   ],
   "source": [
    "#print list as many times as the number of elements are there inside\n",
    "for count in list1:\n",
    "    print(list1)\n",
    "    "
   ]
  },
  {
   "cell_type": "code",
   "execution_count": 144,
   "id": "eb312453-13e2-4456-b4c5-98e9c086075b",
   "metadata": {},
   "outputs": [
    {
     "name": "stdout",
     "output_type": "stream",
     "text": [
      "aastha\n",
      "aayush\n",
      "vihaan\n"
     ]
    }
   ],
   "source": [
    "#print every single element of the list pertaining to the count\n",
    "for count in list1:\n",
    "    print(count)\n",
    "    "
   ]
  },
  {
   "cell_type": "code",
   "execution_count": 150,
   "id": "69637448-38f0-4049-b632-b792cfdcfed8",
   "metadata": {},
   "outputs": [
    {
     "name": "stdout",
     "output_type": "stream",
     "text": [
      "a\n",
      "a\n",
      "i\n"
     ]
    }
   ],
   "source": [
    "#print every single element of the list pertaining to the count\n",
    "for count in list1:\n",
    "    print(count[1])\n",
    "    #with the first letters pertaining to the indexes"
   ]
  },
  {
   "cell_type": "code",
   "execution_count": 145,
   "id": "551245fb-3720-4e15-a984-e02a3348bf56",
   "metadata": {},
   "outputs": [
    {
     "name": "stdout",
     "output_type": "stream",
     "text": [
      "9\n",
      "8\n",
      "7\n",
      "6\n",
      "5\n",
      "4\n",
      "3\n"
     ]
    }
   ],
   "source": [
    "list2=[9,8,7,6,5,4,3]\n",
    "for count in list2:\n",
    "    print(count)"
   ]
  },
  {
   "cell_type": "code",
   "execution_count": 152,
   "id": "7423ee8f-2b84-42d5-ab74-fb09970b3f17",
   "metadata": {},
   "outputs": [],
   "source": [
    "#2 dimentional lists\n",
    "#matrix\n",
    "#rows and columns\n",
    "matrix=[\n",
    "    [1,2,3],\n",
    "    [4,5,6],\n",
    "    [7,8,9]\n",
    "]"
   ]
  },
  {
   "cell_type": "code",
   "execution_count": 154,
   "id": "8f0a04c9-6e5e-413a-ace4-76373883e253",
   "metadata": {},
   "outputs": [
    {
     "name": "stdout",
     "output_type": "stream",
     "text": [
      "1\n"
     ]
    }
   ],
   "source": [
    "print(matrix[0][0])"
   ]
  },
  {
   "cell_type": "code",
   "execution_count": 156,
   "id": "cabe55fb-6098-4bc9-b0e1-64e9aef7d054",
   "metadata": {},
   "outputs": [
    {
     "name": "stdout",
     "output_type": "stream",
     "text": [
      "[4, 5, 6]\n"
     ]
    }
   ],
   "source": [
    "print(matrix[1])"
   ]
  },
  {
   "cell_type": "code",
   "execution_count": 158,
   "id": "21c53d9c-7104-4933-aa0e-41cb682d0927",
   "metadata": {},
   "outputs": [
    {
     "name": "stdout",
     "output_type": "stream",
     "text": [
      "[1, 2, 3]\n",
      "[4, 5, 6]\n",
      "[7, 8, 9]\n"
     ]
    }
   ],
   "source": [
    "for count in matrix:\n",
    "    print(count)"
   ]
  },
  {
   "cell_type": "code",
   "execution_count": 162,
   "id": "694d7af6-e613-4c51-98bd-c0abc86381c6",
   "metadata": {},
   "outputs": [
    {
     "name": "stdout",
     "output_type": "stream",
     "text": [
      "1\n",
      "2\n",
      "3\n",
      "4\n",
      "5\n",
      "6\n",
      "7\n",
      "8\n",
      "9\n"
     ]
    }
   ],
   "source": [
    "for r in matrix:\n",
    "    for c in r:\n",
    "        print(c)"
   ]
  },
  {
   "cell_type": "code",
   "execution_count": 164,
   "id": "fd8ff385-8482-4b45-9b2b-50d0f7514e5a",
   "metadata": {},
   "outputs": [],
   "source": [
    "#list methods or list functions"
   ]
  },
  {
   "cell_type": "code",
   "execution_count": 190,
   "id": "f0b4eebc-5210-4c78-bca8-ceea196e5745",
   "metadata": {},
   "outputs": [],
   "source": [
    "numbers=[65,65,83,84,72]\n",
    "numbers.append(65)"
   ]
  },
  {
   "cell_type": "code",
   "execution_count": 168,
   "id": "89633d19-d2ae-4867-b05f-6f6e266c4c8d",
   "metadata": {},
   "outputs": [
    {
     "name": "stdout",
     "output_type": "stream",
     "text": [
      "[65, 65, 83, 84, 72, 65]\n"
     ]
    }
   ],
   "source": [
    "print(numbers)"
   ]
  },
  {
   "cell_type": "code",
   "execution_count": 192,
   "id": "d79d1c1b-e5cd-4e94-a000-b91c3ea72d86",
   "metadata": {},
   "outputs": [
    {
     "name": "stdout",
     "output_type": "stream",
     "text": [
      "[65, 65, 83, 84, 72]\n"
     ]
    }
   ],
   "source": [
    "#delete the lst element from the list\n",
    "numbers.pop()\n",
    "print(numbers)"
   ]
  },
  {
   "cell_type": "code",
   "execution_count": 198,
   "id": "e600a874-aacc-4ddb-8858-d590fb4dedc1",
   "metadata": {},
   "outputs": [
    {
     "name": "stdout",
     "output_type": "stream",
     "text": [
      "3\n",
      "[65, 65, 83, 84, 72]\n"
     ]
    }
   ],
   "source": [
    "#delete the lst element from the list\n",
    "print(numbers.index(84))\n",
    "print(numbers)"
   ]
  },
  {
   "cell_type": "code",
   "execution_count": 200,
   "id": "9331b9e4-e228-459c-9386-22d8b397af79",
   "metadata": {},
   "outputs": [
    {
     "name": "stdout",
     "output_type": "stream",
     "text": [
      "False\n"
     ]
    }
   ],
   "source": [
    "#check if the number is in the list\n",
    "print(50 in numbers)"
   ]
  },
  {
   "cell_type": "code",
   "execution_count": 204,
   "id": "01746c87-36ea-4b66-bd29-0cb13f6ff97b",
   "metadata": {},
   "outputs": [
    {
     "name": "stdout",
     "output_type": "stream",
     "text": [
      "2\n"
     ]
    }
   ],
   "source": [
    "#cout the occurances of number 5\n",
    "print(numbers.count(65))"
   ]
  },
  {
   "cell_type": "code",
   "execution_count": 206,
   "id": "5fae4d19-f056-43d8-bbc6-b64f28f7f553",
   "metadata": {},
   "outputs": [
    {
     "name": "stdout",
     "output_type": "stream",
     "text": [
      "[65, 65, 72, 83, 84]\n"
     ]
    }
   ],
   "source": [
    "#numbers in ascending order\n",
    "numbers.sort()\n",
    "print(numbers)"
   ]
  },
  {
   "cell_type": "code",
   "execution_count": 208,
   "id": "d88bc83d-ff17-470f-8eff-4888aac4fe03",
   "metadata": {},
   "outputs": [
    {
     "name": "stdout",
     "output_type": "stream",
     "text": [
      "[84, 83, 72, 65, 65]\n"
     ]
    }
   ],
   "source": [
    "#numbers in decending order\n",
    "numbers.sort()\n",
    "numbers.reverse()\n",
    "print(numbers)"
   ]
  },
  {
   "cell_type": "code",
   "execution_count": 170,
   "id": "05540cba-ddac-46d6-a439-0b8b14bfedd1",
   "metadata": {},
   "outputs": [],
   "source": [
    "#to add the number any where in the list at the required position\n",
    "numbers.insert(0,75)"
   ]
  },
  {
   "cell_type": "code",
   "execution_count": 172,
   "id": "eb359f29-bbaf-453b-891e-6d5ab540670a",
   "metadata": {},
   "outputs": [
    {
     "name": "stdout",
     "output_type": "stream",
     "text": [
      "[75, 65, 65, 83, 84, 72, 65]\n"
     ]
    }
   ],
   "source": [
    "print(numbers)"
   ]
  },
  {
   "cell_type": "code",
   "execution_count": 174,
   "id": "30d95688-1436-445d-8f6a-ed2a838c3f45",
   "metadata": {},
   "outputs": [],
   "source": [
    "#for removing an element\n",
    "numbers.remove(65)"
   ]
  },
  {
   "cell_type": "code",
   "execution_count": 176,
   "id": "16a3a4c5-9d08-4b1a-ad94-d10991276bde",
   "metadata": {},
   "outputs": [
    {
     "name": "stdout",
     "output_type": "stream",
     "text": [
      "[75, 65, 83, 84, 72, 65]\n"
     ]
    }
   ],
   "source": [
    "print(numbers)"
   ]
  },
  {
   "cell_type": "code",
   "execution_count": 178,
   "id": "baf43c29-afea-4c44-995a-edfd5cc6803c",
   "metadata": {},
   "outputs": [
    {
     "name": "stdout",
     "output_type": "stream",
     "text": [
      "[75, 65, 83, 84, 72, 65]\n"
     ]
    }
   ],
   "source": [
    "numbers1=numbers\n",
    "print(numbers1)"
   ]
  },
  {
   "cell_type": "code",
   "execution_count": 182,
   "id": "a4f210fe-9bb3-4cb0-bea3-14897eff3a8c",
   "metadata": {},
   "outputs": [],
   "source": [
    "numbers1.clear()"
   ]
  },
  {
   "cell_type": "code",
   "execution_count": 186,
   "id": "891fd249-1859-4cf9-a9c9-dbe831244430",
   "metadata": {},
   "outputs": [
    {
     "name": "stdout",
     "output_type": "stream",
     "text": [
      "[]\n"
     ]
    }
   ],
   "source": [
    "print(numbers1)"
   ]
  },
  {
   "cell_type": "code",
   "execution_count": 188,
   "id": "97d4c553-1c50-423c-b41b-319a10a2baca",
   "metadata": {},
   "outputs": [
    {
     "name": "stdout",
     "output_type": "stream",
     "text": [
      "[]\n"
     ]
    }
   ],
   "source": [
    "print(numbers)"
   ]
  },
  {
   "cell_type": "code",
   "execution_count": 210,
   "id": "4d207765-6cee-44fa-adfa-c499a5c7f1ba",
   "metadata": {},
   "outputs": [],
   "source": [
    "#when assinging the apove numbers to try and duplicate the list it impacted the original lit aswell"
   ]
  },
  {
   "cell_type": "code",
   "execution_count": 234,
   "id": "b86aced0-8ad6-4c43-947b-5d783bad186b",
   "metadata": {},
   "outputs": [
    {
     "name": "stdout",
     "output_type": "stream",
     "text": [
      "[65, 65, 83, 84, 72, 65]\n",
      "[65, 65, 83, 84, 72, 65, 65]\n"
     ]
    }
   ],
   "source": [
    "#therefore the solution to this is using th ecopy function\n",
    "numbers=[65,65,83,84,72,65]\n",
    "numbers2=numbers.copy()\n",
    "numbers2.append(65)\n",
    "print(numbers)\n",
    "print(numbers2)"
   ]
  },
  {
   "cell_type": "code",
   "execution_count": 230,
   "id": "8f9d9be2-7dd8-4f1e-ac94-2facf12b17aa",
   "metadata": {},
   "outputs": [
    {
     "name": "stdout",
     "output_type": "stream",
     "text": [
      "[83, 84, 72, 65, 65]\n"
     ]
    }
   ],
   "source": [
    "#removing duplicates in a list\n",
    "for cout in numbers2:\n",
    "    if numbers2.count(cout)>1:\n",
    "        numbers2.remove(cout)\n",
    "print(numbers2)"
   ]
  },
  {
   "cell_type": "code",
   "execution_count": 232,
   "id": "707eeb73-7b34-4516-88de-dc3510f65d72",
   "metadata": {},
   "outputs": [],
   "source": [
    "#in my pervious approach it is not giving me a proper output as while shifting elements it is making a glitch"
   ]
  },
  {
   "cell_type": "code",
   "execution_count": 238,
   "id": "12ee47aa-3efc-426c-b183-080f218fee9f",
   "metadata": {},
   "outputs": [
    {
     "name": "stdout",
     "output_type": "stream",
     "text": [
      "[65, 83, 84, 72]\n"
     ]
    }
   ],
   "source": [
    "#therefore a better approach to this problem is \n",
    "empty=[]#taking an empty list\n",
    "for count in numbers2:\n",
    "    if count not in empty:\n",
    "        empty.append(count)\n",
    "print(empty)"
   ]
  },
  {
   "cell_type": "code",
   "execution_count": 240,
   "id": "41380f74-9bba-4d3f-ba78-82370469d6e1",
   "metadata": {},
   "outputs": [],
   "source": [
    "#tuples similar to lists but unlike lists we cannot modify them"
   ]
  },
  {
   "cell_type": "code",
   "execution_count": 242,
   "id": "156c2887-168c-4ed7-8233-9b536a591276",
   "metadata": {},
   "outputs": [],
   "source": [
    "#we cannot add items cannot remove items --they are immutable"
   ]
  },
  {
   "cell_type": "code",
   "execution_count": 244,
   "id": "c5613819-e553-4630-a3a0-5cee4632ad20",
   "metadata": {},
   "outputs": [],
   "source": [
    "numbers=(1,2,3)"
   ]
  },
  {
   "cell_type": "code",
   "execution_count": 252,
   "id": "99790258-3487-4c35-905d-61e29b861320",
   "metadata": {},
   "outputs": [
    {
     "name": "stdout",
     "output_type": "stream",
     "text": [
      "1\n"
     ]
    }
   ],
   "source": [
    "print(numbers.count(1))\n",
    "#counts the singe element occurences"
   ]
  },
  {
   "cell_type": "code",
   "execution_count": 254,
   "id": "d0a839fb-213d-4671-9f06-9d27c1d8a56d",
   "metadata": {},
   "outputs": [
    {
     "name": "stdout",
     "output_type": "stream",
     "text": [
      "1\n"
     ]
    }
   ],
   "source": [
    "print(numbers[0])"
   ]
  },
  {
   "cell_type": "code",
   "execution_count": 258,
   "id": "d712d63a-1582-4d75-9537-35c741ca9aab",
   "metadata": {},
   "outputs": [],
   "source": [
    "#unpacking\n",
    "coordinates=(1,2,3)\n",
    "#too long of a code to write coordintes[0]*coordinates[1]*coordinates[3]\n",
    "#therefore we assign them to variables\n",
    "#x=coordinate[0]\n",
    "#y=coordinate[1]\n",
    "#z=coordinate[2]\n",
    "#insted we use unpacking\n",
    "x,y,z = coordinates"
   ]
  },
  {
   "cell_type": "code",
   "execution_count": 262,
   "id": "69eba91a-82cc-46f3-95c6-12423651856d",
   "metadata": {},
   "outputs": [
    {
     "name": "stdout",
     "output_type": "stream",
     "text": [
      "1\n",
      "[2, 3, 4, 5]\n"
     ]
    }
   ],
   "source": [
    "#unpacking with '*'\n",
    "coordinates=(1,2,3,4,5)\n",
    "x,*y=coordinates\n",
    "#will give x=1 and y=[2,3,4,5] as a list\n",
    "#or unpacking in th  middle\n",
    "#x,*y,z=coordinates\n",
    "#x=1\n",
    "#y=[2,3,4]\n",
    "#z=5\n",
    "print(x)\n",
    "print(y)"
   ]
  },
  {
   "cell_type": "code",
   "execution_count": 268,
   "id": "b834da42-a14a-4cc4-89ac-51016805132f",
   "metadata": {},
   "outputs": [],
   "source": [
    "#dictionary key value pairs\n",
    "customer={\n",
    "    \"name\":\"Aastha kataria\",\n",
    "    \"age\":30,\n",
    "    \"is_verified\":True\n",
    "}\n",
    "#no two same key values"
   ]
  },
  {
   "cell_type": "code",
   "execution_count": 270,
   "id": "b756b719-b046-4731-accc-bc40747c342b",
   "metadata": {},
   "outputs": [
    {
     "data": {
      "text/plain": [
       "'Aastha kataria'"
      ]
     },
     "execution_count": 270,
     "metadata": {},
     "output_type": "execute_result"
    }
   ],
   "source": [
    "#access each value via the kea\n",
    "customer[\"name\"]"
   ]
  },
  {
   "cell_type": "code",
   "execution_count": 272,
   "id": "cbe8e00a-9cc5-45ca-9ff9-33dcbd6a9b25",
   "metadata": {},
   "outputs": [],
   "source": [
    "customer.get(\"birth_date\") #answer will come as none"
   ]
  },
  {
   "cell_type": "code",
   "execution_count": 274,
   "id": "f9c4cc37-c29f-469a-9eee-c9e42a76698d",
   "metadata": {},
   "outputs": [],
   "source": [
    "#can also come as customer.get(\"birth_date\",\"Jan 1 1980\")\n",
    "#the answer wil come as Jan 1 1980"
   ]
  },
  {
   "cell_type": "code",
   "execution_count": 276,
   "id": "3d748ed5-f39a-477e-8d78-bc3803f31c1a",
   "metadata": {},
   "outputs": [],
   "source": [
    "#updating the name\n",
    "customer[\"name\"]=\"aastha kataria\""
   ]
  },
  {
   "cell_type": "code",
   "execution_count": 278,
   "id": "b44a9c83-864f-452d-a236-ae675c0a1f64",
   "metadata": {},
   "outputs": [
    {
     "name": "stdin",
     "output_type": "stream",
     "text": [
      "phone: 09326492515\n"
     ]
    },
    {
     "name": "stdout",
     "output_type": "stream",
     "text": [
      "zero nine three two six four nine two five one five \n"
     ]
    }
   ],
   "source": [
    "digits_to_words={\n",
    "    \"1\":\"one\",\n",
    "    \"2\":\"two\",\n",
    "    \"3\":\"three\",\n",
    "    \"4\":\"four\",\n",
    "    \"5\":\"five\",\n",
    "    \"6\":\"six\",\n",
    "    \"7\":\"seven\",\n",
    "    \"8\":\"eight\",\n",
    "    \"9\":\"nine\",\n",
    "    \"0\":\"zero\"\n",
    "}\n",
    "phone=input(\"phone:\")\n",
    "output=\"\"\n",
    "for count in phone:\n",
    "    output +=digits_to_words.get(count,\"!\")+\" \"\n",
    "print(output)"
   ]
  },
  {
   "cell_type": "code",
   "execution_count": 280,
   "id": "722c6530-b807-4974-8bca-81df31981ab7",
   "metadata": {},
   "outputs": [
    {
     "name": "stdin",
     "output_type": "stream",
     "text": [
      "> good morning :)\n"
     ]
    },
    {
     "name": "stdout",
     "output_type": "stream",
     "text": [
      "['good', 'morning', ':)']\n"
     ]
    }
   ],
   "source": [
    "#mapping characters to emoji\n",
    "message=input(\">\")\n",
    "#splitting the input message\n",
    "words=message.split(' ')#split where ever you find a space there fore space is a boundary\n",
    "#printing a list of the split words\n",
    "print(words)"
   ]
  },
  {
   "cell_type": "code",
   "execution_count": 286,
   "id": "ecb168da-917c-4fe8-ab72-ed701aed9447",
   "metadata": {},
   "outputs": [
    {
     "name": "stdout",
     "output_type": "stream",
     "text": [
      "good morning 😀 \n"
     ]
    }
   ],
   "source": [
    "#defining  dictionary \n",
    "emojis={\n",
    "    \":)\":\"😀\",\n",
    "    \":(\":\"😒\"\n",
    "       \n",
    "}\n",
    "output=\"\"\n",
    "for word in words:\n",
    "    output +=emojis.get(word,word)+\" \"\n",
    "print(output)"
   ]
  },
  {
   "cell_type": "code",
   "execution_count": 288,
   "id": "f0aed97c-b497-43b3-9359-cb0b5e28f153",
   "metadata": {},
   "outputs": [
    {
     "name": "stdout",
     "output_type": "stream",
     "text": [
      "start\n",
      "hi my name is aastha\n",
      "ni jao shenma minze\n",
      "finish\n"
     ]
    }
   ],
   "source": [
    "#functions\n",
    "#breaking own code into a more managable chunks of code\n",
    "#can be reused\n",
    "#print(),input() are inbuilt functions,which are predefined functions \n",
    "#writing functions yourself\n",
    "#def keyword for defining function\n",
    "def greet_user():\n",
    "    print(\"hi my name is aastha\")\n",
    "    print(\"ni jao shenma minze\")\n",
    "\n",
    "print(\"start\")\n",
    "greet_user()\n",
    "print(\"finish\")"
   ]
  },
  {
   "cell_type": "code",
   "execution_count": 292,
   "id": "96954095-a00c-43c1-8dbc-b6db5e606bea",
   "metadata": {},
   "outputs": [
    {
     "name": "stdout",
     "output_type": "stream",
     "text": [
      "start\n",
      "hi my name is aastha\n",
      "ni jao shenma minze\n",
      "hi my name is aayushi\n",
      "ni jao shenma minze\n",
      "finish\n"
     ]
    }
   ],
   "source": [
    "#functions\n",
    "#breaking own code into a more managable chunks of code\n",
    "#can be reused\n",
    "#print(),input() are inbuilt functions,which are predefined functions \n",
    "#writing functions yourself\n",
    "#def keyword for defining function\n",
    "#passing parameters in the functions\n",
    "\n",
    "def greet_user(name):#here name is a parameter\n",
    "    print(f\"hi my name is {name}\")\n",
    "    print(\"ni jao shenma minze\")\n",
    "\n",
    "print(\"start\")\n",
    "greet_user(\"aastha\")#here aastha is argument \n",
    "greet_user(\"aayushi\")\n",
    "print(\"finish\")"
   ]
  },
  {
   "cell_type": "code",
   "execution_count": 294,
   "id": "371f1903-57f9-49d7-bafe-c56aeb2d8e1d",
   "metadata": {},
   "outputs": [
    {
     "name": "stdout",
     "output_type": "stream",
     "text": [
      "hi aasthakataria\n"
     ]
    }
   ],
   "source": [
    "def name(fname,lname):\n",
    "    print(f\"hi {fname}{lname}\")\n",
    "\n",
    "name(\"aastha\",\"kataria\")"
   ]
  },
  {
   "cell_type": "code",
   "execution_count": 300,
   "id": "296cda56-6647-49bd-a463-bb34e440a23b",
   "metadata": {},
   "outputs": [
    {
     "name": "stdout",
     "output_type": "stream",
     "text": [
      "hi aasthakataria\n"
     ]
    }
   ],
   "source": [
    "def name(fname,lname):\n",
    "    print(f\"hi {fname}{lname}\")\n",
    "\n",
    "name(lname=\"kataria\",fname=\"aastha\")\n",
    "#using keyword argument order does not matter"
   ]
  },
  {
   "cell_type": "code",
   "execution_count": 304,
   "id": "27adc10a-6c56-498b-8c96-d0df7d14690d",
   "metadata": {},
   "outputs": [
    {
     "name": "stdout",
     "output_type": "stream",
     "text": [
      "hi aasthakataria\n"
     ]
    }
   ],
   "source": [
    "def name(fname,lname):\n",
    "    print(f\"hi {fname}{lname}\")\n",
    "\n",
    "#name(\"kataria\",fname=\"aastha\")\n",
    "#here kataria is  positional argument and aastha is a keyword argument\n",
    "#python gives an error here\n",
    "#but we can write it as first   positional then keyword then it wont throw an error\n",
    "name(\"aastha\",lname=\"kataria\")"
   ]
  },
  {
   "cell_type": "code",
   "execution_count": 308,
   "id": "c18f4d77-addf-4f53-aedb-4dbdb7ae8d45",
   "metadata": {},
   "outputs": [
    {
     "name": "stdout",
     "output_type": "stream",
     "text": [
      "423801\n",
      "16\n"
     ]
    }
   ],
   "source": [
    "#return statement\n",
    "def square(number):return number*number\n",
    "\n",
    "result=square(651)\n",
    "print(result)\n",
    "#or\n",
    "print(square(4))"
   ]
  },
  {
   "cell_type": "code",
   "execution_count": 310,
   "id": "97ae8cc5-58f6-42ae-96a6-d10e902e2ca5",
   "metadata": {},
   "outputs": [],
   "source": [
    "#if no return statement then the function returns none"
   ]
  },
  {
   "cell_type": "code",
   "execution_count": 312,
   "id": "28c4eb03-8fc1-42fa-9b32-f41ed1b3319c",
   "metadata": {},
   "outputs": [
    {
     "name": "stdin",
     "output_type": "stream",
     "text": [
      "> i am happy today :)\n"
     ]
    },
    {
     "name": "stdout",
     "output_type": "stream",
     "text": [
      "['i', 'am', 'happy', 'today', ':)']\n",
      "good morning 😀 \n"
     ]
    }
   ],
   "source": [
    "#mapping characters to emoji\n",
    "def msg_to_emoji(message):\n",
    "    #splitting the input message\n",
    "    words=message.split(' ')#split where ever you find a space there fore space is a boundary\n",
    "    #printing a list of the split words\n",
    "    print(words)\n",
    "    #defining  dictionary \n",
    "    emojis={\n",
    "        \":)\":\"😀\",\n",
    "        \":(\":\"😒\"\n",
    "       \n",
    "    }\n",
    "    output=\"\"\n",
    "    for word in words:\n",
    "        output +=emojis.get(word,word)+\" \"\n",
    "\n",
    "    return output\n",
    "\n",
    "\n",
    "message=input(\">\")\n",
    "msg_to_emoji(message)\n",
    "print(output)"
   ]
  },
  {
   "cell_type": "code",
   "execution_count": 314,
   "id": "08498094-1f0e-4723-84bc-f600e5f3b918",
   "metadata": {},
   "outputs": [],
   "source": [
    "#handeling errors or exception haneling"
   ]
  },
  {
   "cell_type": "code",
   "execution_count": 316,
   "id": "d647071b-e7bb-4590-bae7-233e6cd0d0b8",
   "metadata": {},
   "outputs": [
    {
     "name": "stdin",
     "output_type": "stream",
     "text": [
      "Age: 3\n"
     ]
    },
    {
     "name": "stdout",
     "output_type": "stream",
     "text": [
      "3\n"
     ]
    }
   ],
   "source": [
    "#when we run a program with proper values as pr the datatype it gives a return value as zero\n",
    "age=int(input('Age:'))\n",
    "print(age)\n"
   ]
  },
  {
   "cell_type": "code",
   "execution_count": 318,
   "id": "d9db551b-55d5-4480-9f20-138797a5225a",
   "metadata": {},
   "outputs": [
    {
     "name": "stdin",
     "output_type": "stream",
     "text": [
      "Age: aastha\n"
     ]
    },
    {
     "name": "stdout",
     "output_type": "stream",
     "text": [
      "invalid value\n"
     ]
    }
   ],
   "source": [
    "#but if i use a string value insted it will give me an error\n",
    "#so insted of letting the whole program crash we give an exception statement\n",
    "#and handle the exception\n",
    "try:\n",
    "    age=int(input('Age:'))\n",
    "    print(age)\n",
    "except ValueError:\n",
    "    print(\"invalid value\")\n",
    "    "
   ]
  },
  {
   "cell_type": "code",
   "execution_count": 320,
   "id": "468b1779-805d-4139-930f-48193ac764c1",
   "metadata": {},
   "outputs": [
    {
     "name": "stdin",
     "output_type": "stream",
     "text": [
      "Age: 0\n"
     ]
    },
    {
     "name": "stdout",
     "output_type": "stream",
     "text": [
      "zero division error\n"
     ]
    }
   ],
   "source": [
    "#but if i use a string value insted it will give me an error\n",
    "#so insted of letting the whole program crash we give an exception statement\n",
    "#and handle the exception\n",
    "try:\n",
    "    age=int(input('Age:'))\n",
    "    income=100000000\n",
    "    risk=income/age\n",
    "    #if age is zero \n",
    "    print(age)\n",
    "except ZeroDivisionError:\n",
    "    print(\"zero division error\")\n",
    "except ValueError:\n",
    "    print(\"invalid value\")\n",
    "    "
   ]
  },
  {
   "cell_type": "code",
   "execution_count": 324,
   "id": "a58b4437-5f27-4550-a2e4-bbed6e97cb7a",
   "metadata": {},
   "outputs": [
    {
     "data": {
      "text/plain": [
       "'\\ncomplex types\\nlists\\ntuple \\ndictionaries\\n'"
      ]
     },
     "execution_count": 324,
     "metadata": {},
     "output_type": "execute_result"
    }
   ],
   "source": [
    "#classes in python\n",
    "#user defined types \n",
    "#user defined types are\n",
    "\"\"\"\n",
    "Number\n",
    "booleans\n",
    "strings\n",
    "\"\"\"\n",
    "#-----------\n",
    "\"\"\"\n",
    "complex types\n",
    "lists\n",
    "tuple \n",
    "dictionaries\n",
    "\"\"\""
   ]
  },
  {
   "cell_type": "code",
   "execution_count": 326,
   "id": "3b78675f-05fb-4564-a881-8319f13a4f53",
   "metadata": {},
   "outputs": [
    {
     "name": "stdout",
     "output_type": "stream",
     "text": [
      "draw\n"
     ]
    }
   ],
   "source": [
    "numbers=[1,2,3]\n",
    "#naming classes using the pascal nameing convention keeping the first letter of the word capital\n",
    "class Point:\n",
    "    def move(self):\n",
    "        print(\"move\")\n",
    "    def draw(self):\n",
    "        print(\"draw\")\n",
    "\n",
    "point1=Point()#creating the object of a class\n",
    "point1.draw()"
   ]
  },
  {
   "cell_type": "code",
   "execution_count": 328,
   "id": "434ba7ef-9211-46b6-b992-a23d6abcf590",
   "metadata": {},
   "outputs": [
    {
     "name": "stdout",
     "output_type": "stream",
     "text": [
      "draw\n"
     ]
    }
   ],
   "source": [
    "point1.x=20\n",
    "point1.y=30\n",
    "point1.draw()"
   ]
  },
  {
   "cell_type": "code",
   "execution_count": 330,
   "id": "9ca2e25e-b701-4ab8-af35-3f12348fd763",
   "metadata": {},
   "outputs": [
    {
     "name": "stdout",
     "output_type": "stream",
     "text": [
      "20\n"
     ]
    }
   ],
   "source": [
    "print(point1.x)"
   ]
  },
  {
   "cell_type": "code",
   "execution_count": 332,
   "id": "dd086240-2529-45d3-9263-984243d40a14",
   "metadata": {},
   "outputs": [
    {
     "name": "stdout",
     "output_type": "stream",
     "text": [
      "30\n"
     ]
    }
   ],
   "source": [
    "print(point1.y)"
   ]
  },
  {
   "cell_type": "code",
   "execution_count": 336,
   "id": "81586528-20bb-434a-81dc-7419b1f73749",
   "metadata": {},
   "outputs": [
    {
     "name": "stdout",
     "output_type": "stream",
     "text": [
      "1\n"
     ]
    }
   ],
   "source": [
    "#every object is different \n",
    "point2=Point()\n",
    "#print(point2.x) will give an error\n",
    "#as there is no x defined\n",
    "point2.x=1\n",
    "print(point2.x)\n"
   ]
  },
  {
   "cell_type": "code",
   "execution_count": 338,
   "id": "fac1502c-bab0-4f25-885b-56d927ee4b32",
   "metadata": {},
   "outputs": [
    {
     "name": "stdout",
     "output_type": "stream",
     "text": [
      "10\n"
     ]
    }
   ],
   "source": [
    "#constructors\n",
    "#the problem earlier is that we can create a point object without an x or y coordinate\n",
    "#constructor is a type of function that gets created while calling an object\n",
    "numbers=[1,2,3]\n",
    "#naming classes using the pascal nameing convention keeping the first letter of the word capital\n",
    "class Point:\n",
    "    def __init__(self,x,y):#constructer __init__ means initiliasation.Here initiallising x and y\n",
    "        self.x=x\n",
    "        self.y=y\n",
    "        \n",
    "    def move(self):\n",
    "        print(\"move\")\n",
    "    def draw(self):\n",
    "        print(\"draw\")\n",
    "\n",
    "#point1=Point()#creating the object of a class\n",
    "#point1.draw()\n",
    "point=Point(10,20)\n",
    "print(point.x)\n"
   ]
  },
  {
   "cell_type": "code",
   "execution_count": 344,
   "id": "43d0e88c-fc0f-4369-9932-8615fae6fb7f",
   "metadata": {},
   "outputs": [
    {
     "name": "stdin",
     "output_type": "stream",
     "text": [
      "enter your name aastha\n"
     ]
    },
    {
     "name": "stdout",
     "output_type": "stream",
     "text": [
      "hiaastha\n"
     ]
    }
   ],
   "source": [
    "#create a class person with name attribute and talk() function\n",
    "class Person:\n",
    "    def talk(self,name):\n",
    "        print(f\"hi{name}\")\n",
    "\n",
    "name=input(\"enter your name\")\n",
    "personname=Person()\n",
    "personname.talk(name)\n"
   ]
  },
  {
   "cell_type": "code",
   "execution_count": 354,
   "id": "783385a4-a9c1-4e79-8ca8-a306d5005da1",
   "metadata": {},
   "outputs": [
    {
     "name": "stdin",
     "output_type": "stream",
     "text": [
      "enter your name Aastha kataria\n"
     ]
    },
    {
     "name": "stdout",
     "output_type": "stream",
     "text": [
      "Aastha kataria\n",
      "talk\n"
     ]
    }
   ],
   "source": [
    "#create a class person with name attribute and talk() function\n",
    "class Person:\n",
    "    def __init__(self,name):\n",
    "        self.name=name\n",
    "    def talk(self,name):\n",
    "        print(\"talk\")\n",
    "\n",
    "name=input(\"enter your name\")\n",
    "personname=Person(name)\n",
    "print(personname.name)\n",
    "personname.talk(name)\n"
   ]
  },
  {
   "cell_type": "code",
   "execution_count": 356,
   "id": "ec911efe-a099-45b1-8a55-7284c2bbefcb",
   "metadata": {},
   "outputs": [
    {
     "data": {
      "text/plain": [
       "'\\nclass Dog:\\n    def walk(self):\\n       print(\"walk\")\\n\\nclass Cat:\\n    def walk(self):\\n       print(\"walk\")\\n\\nHere ther is a repitetation of the walk code \\nusing inheritence we can avoid it \\n'"
      ]
     },
     "execution_count": 356,
     "metadata": {},
     "output_type": "execute_result"
    }
   ],
   "source": [
    "#inheritance\n",
    "#one class inherits the property of another class\n",
    "#principle dry\n",
    "#fullform do not repeat your code\n",
    "\n",
    "#if i have 2 classes \n",
    "#eg\n",
    "\"\"\"\n",
    "class Dog:\n",
    "    def walk(self):\n",
    "       print(\"walk\")\n",
    "\n",
    "class Cat:\n",
    "    def walk(self):\n",
    "       print(\"walk\")\n",
    "\n",
    "Here ther is a repitetation of the walk code \n",
    "using inheritence we can avoid it \n",
    "and if we have to change something in the function it will be a tedius task locating everyfunction and changing t\n",
    "the required details\n",
    "where as in inhiritance we only have to change it once\n",
    "\"\"\""
   ]
  },
  {
   "cell_type": "code",
   "execution_count": 362,
   "id": "f223d6f3-0995-4827-8d77-c277ab290666",
   "metadata": {},
   "outputs": [
    {
     "name": "stdout",
     "output_type": "stream",
     "text": [
      "walk\n",
      "bark\n"
     ]
    }
   ],
   "source": [
    "class Mammal:\n",
    "    def walk(self):\n",
    "       print(\"walk\")\n",
    "#python does want an empty class\n",
    "class Dog(Mammal):\n",
    "    def bark(self):\n",
    "        print(\"bark\")\n",
    "\n",
    "class Cat(Mammal):\n",
    "    pass\n",
    "    \n",
    "dog=Dog()\n",
    "dog.walk()\n",
    "dog.bark()\n",
    "    "
   ]
  },
  {
   "cell_type": "code",
   "execution_count": 364,
   "id": "6001f8ff-b8a0-4395-829d-ab05bc15b770",
   "metadata": {},
   "outputs": [],
   "source": [
    "#modules in python\n",
    "#insted of writing all of our in one file we we split it across different files\n",
    "#and call via import\n",
    "#convertors.py\n",
    "#def lbs_to_kg(weight):\n",
    "#    return weight*0.45\n",
    "#def kg_to_lbs(weight):\n",
    "#    return weight/0.45\n",
    "\n",
    "#in the main file \n",
    "#use inport statement \n",
    "#import convertors\n",
    "#or we can also import specific modules\n",
    "#from converters import kg_to_lbs\n",
    "#using the functions in an imported class\n",
    "#convertors.def lbs_to_kg(70)"
   ]
  },
  {
   "cell_type": "code",
   "execution_count": 366,
   "id": "4fab0252-322a-4fa3-a7c3-5cdb29399662",
   "metadata": {},
   "outputs": [
    {
     "ename": "SyntaxError",
     "evalue": "invalid syntax (924993308.py, line 5)",
     "output_type": "error",
     "traceback": [
      "\u001b[1;36m  Cell \u001b[1;32mIn[366], line 5\u001b[1;36m\u001b[0m\n\u001b[1;33m    Right click the main source file\u001b[0m\n\u001b[1;37m          ^\u001b[0m\n\u001b[1;31mSyntaxError\u001b[0m\u001b[1;31m:\u001b[0m invalid syntax\n"
     ]
    }
   ],
   "source": [
    "#package\n",
    "#another way to organise modules\n",
    "#as they getvluttered \n",
    "#there fore using package as a container to store  multiple modules \n",
    "Right click the main source file \n",
    "then choose directory and name it  or directly crate a python package\n",
    "to convert an empty directory to a package we need to add a special python file in it \n",
    "which is the __init__ file\n",
    "then the interepretor sees this file it treates the directory like a package\n",
    "\n",
    "#for instance we have a package name ecommerse and inside we have a shipping.py \n",
    "#therefore to import it i the required python file we will need \n",
    "#import ecommerce.shipping\n",
    "\n",
    "and while using it we will have to type\n",
    "\n",
    "ecommerse.shipping.claculate_shipping()\n",
    "\n",
    "or write \n",
    "from ecommerse.shipping import calculate_shipping,calaualte_tax\n",
    "\n",
    "then keep on calling the function directly as you want\n",
    "calculate_shipping()\n",
    "calculate_shipping()\n",
    "calculate_shipping()\n",
    "\n"
   ]
  },
  {
   "cell_type": "code",
   "execution_count": 372,
   "id": "9d6f504f-82ec-433a-b699-61b7150ebccb",
   "metadata": {},
   "outputs": [
    {
     "name": "stdout",
     "output_type": "stream",
     "text": [
      "15\n",
      "14\n",
      "16\n"
     ]
    }
   ],
   "source": [
    "#generating randome values\n",
    "#builtin modules in python\n",
    "#google search: python3 module index'\n",
    "\n",
    "#eg random module already these in external liberaries<python version<pythonversion<library root\n",
    "import random\n",
    "for i in range(3):\n",
    "    print(random.randint(10,20))\n"
   ]
  },
  {
   "cell_type": "code",
   "execution_count": 381,
   "id": "c82b6a65-0ae1-46de-b67b-f3b6f734b36c",
   "metadata": {},
   "outputs": [
    {
     "name": "stdout",
     "output_type": "stream",
     "text": [
      "aastha\n",
      "vihaan\n",
      "vihaan\n"
     ]
    }
   ],
   "source": [
    "#randomly taking members form a list\n",
    "list=['aastha','aayushi','vihaan']\n",
    "for i in list:\n",
    "    print(random.choice(list))\n"
   ]
  },
  {
   "cell_type": "code",
   "execution_count": 383,
   "id": "024244c4-89b2-4dd0-a9c4-42914a5e19c4",
   "metadata": {},
   "outputs": [
    {
     "name": "stdout",
     "output_type": "stream",
     "text": [
      "(4, 5)\n"
     ]
    }
   ],
   "source": [
    "#making a randome dice and printing the result in a tuple\n",
    "class Dice:\n",
    "    def roll (self):\n",
    "        first=random.randint(1,6)\n",
    "        second=random.randint(1,6)\n",
    "        return first,second\n",
    "\n",
    "dice=Dice()\n",
    "print(dice.roll())"
   ]
  },
  {
   "cell_type": "code",
   "execution_count": 385,
   "id": "c85b4d2c-2e70-4104-8130-62096e509b27",
   "metadata": {},
   "outputs": [
    {
     "ename": "SyntaxError",
     "evalue": "invalid syntax (3474016380.py, line 4)",
     "output_type": "error",
     "traceback": [
      "\u001b[1;36m  Cell \u001b[1;32mIn[385], line 4\u001b[1;36m\u001b[0m\n\u001b[1;33m    using an absolute path  root of our harddisk\u001b[0m\n\u001b[1;37m          ^\u001b[0m\n\u001b[1;31mSyntaxError\u001b[0m\u001b[1;31m:\u001b[0m invalid syntax\n"
     ]
    }
   ],
   "source": [
    "#directories and files\n",
    "pathlib\n",
    "from pathlib import path\n",
    "using an absolute path  root of our harddisk\n",
    "    c:\\program files\\microsoft\n",
    "/user/local/bin\n",
    "or a relative path\n",
    "using the directories inside"
   ]
  },
  {
   "cell_type": "code",
   "execution_count": 387,
   "id": "50ba8f0c-0ab5-44fa-b4d6-aceb6ccc744d",
   "metadata": {},
   "outputs": [
    {
     "ename": "NameError",
     "evalue": "name 'Path' is not defined",
     "output_type": "error",
     "traceback": [
      "\u001b[1;31m---------------------------------------------------------------------------\u001b[0m",
      "\u001b[1;31mNameError\u001b[0m                                 Traceback (most recent call last)",
      "Cell \u001b[1;32mIn[387], line 2\u001b[0m\n\u001b[0;32m      1\u001b[0m \u001b[38;5;66;03m#creating mew directories \u001b[39;00m\n\u001b[1;32m----> 2\u001b[0m path\u001b[38;5;241m=\u001b[39mPath(\u001b[38;5;124m\"\u001b[39m\u001b[38;5;124memails\u001b[39m\u001b[38;5;124m\"\u001b[39m)\n",
      "\u001b[1;31mNameError\u001b[0m: name 'Path' is not defined"
     ]
    }
   ],
   "source": [
    "#creating mew directories \n",
    "path=Path(\"emails\")\n",
    "#path.mkdir()\n",
    "\n",
    "#deleting directories\n",
    "#path.rmkdir()"
   ]
  },
  {
   "cell_type": "code",
   "execution_count": 389,
   "id": "45bf2603-359b-45b7-b297-4df11e29c4a6",
   "metadata": {},
   "outputs": [],
   "source": [
    "#pip install---packages on PyPi"
   ]
  },
  {
   "cell_type": "code",
   "execution_count": null,
   "id": "c9b4d4e5-d04f-4960-951b-37736bf1af76",
   "metadata": {},
   "outputs": [],
   "source": []
  }
 ],
 "metadata": {
  "kernelspec": {
   "display_name": "Python 3 (ipykernel)",
   "language": "python",
   "name": "python3"
  },
  "language_info": {
   "codemirror_mode": {
    "name": "ipython",
    "version": 3
   },
   "file_extension": ".py",
   "mimetype": "text/x-python",
   "name": "python",
   "nbconvert_exporter": "python",
   "pygments_lexer": "ipython3",
   "version": "3.12.4"
  }
 },
 "nbformat": 4,
 "nbformat_minor": 5
}
